{
  "nbformat": 4,
  "nbformat_minor": 0,
  "metadata": {
    "colab": {
      "name": "geo_data_using_machine_learning.ipynb",
      "provenance": [],
      "authorship_tag": "ABX9TyPbX0m0acEKGP/9kxBYTEk3",
      "include_colab_link": true
    },
    "kernelspec": {
      "name": "python3",
      "display_name": "Python 3"
    }
  },
  "cells": [
    {
      "cell_type": "markdown",
      "metadata": {
        "id": "view-in-github",
        "colab_type": "text"
      },
      "source": [
        "<a href=\"https://colab.research.google.com/github/pse843/Geo-Data/blob/master/geo_data_using_machine_learning.ipynb\" target=\"_parent\"><img src=\"https://colab.research.google.com/assets/colab-badge.svg\" alt=\"Open In Colab\"/></a>"
      ]
    },
    {
      "cell_type": "markdown",
      "metadata": {
        "id": "9eA7cV8GVo9h",
        "colab_type": "text"
      },
      "source": [
        "# Capstone Project - Geo Data in MTL using Machine Laerning\n",
        "\n"
      ]
    },
    {
      "cell_type": "markdown",
      "metadata": {
        "id": "UqFvl_o8V8ty",
        "colab_type": "text"
      },
      "source": [
        "## Table of contents\n",
        "* [Data](#data)\n",
        "* [Methodology](#methodology)\n",
        "* [Analysis](#analysis)\n",
        "* [Results](#results)\n",
        "* [Discussion](#discussion)"
      ]
    },
    {
      "cell_type": "markdown",
      "metadata": {
        "id": "muB6vdHgWRDL",
        "colab_type": "text"
      },
      "source": [
        "## Data <a name=\"data\"></a>"
      ]
    },
    {
      "cell_type": "markdown",
      "metadata": {
        "id": "EtzI-cZcLiTV",
        "colab_type": "text"
      },
      "source": [
        "The data to find the neighborhood will be obtained by exploring the city. Using Foursquare API, venues and their information will be provided. The information includes names, categories, coordinates, addresses, distances. \n",
        "The exploration will be performed centering around Mont Royal.\n"
      ]
    },
    {
      "cell_type": "markdown",
      "metadata": {
        "id": "EmV7P2EgLjom",
        "colab_type": "text"
      },
      "source": [
        "After obtaining the data, it will be clustered by categories. Each cluster is expected to give information of each venue including names, categories, addresses, and cluster numbers. Among them, categories and cluster names will be used for visualization on the map as a pop-up text."
      ]
    },
    {
      "cell_type": "markdown",
      "metadata": {
        "id": "t4XQX10SWlPP",
        "colab_type": "text"
      },
      "source": [
        "## Methodology <a name=\"methodology\"></a>"
      ]
    },
    {
      "cell_type": "markdown",
      "metadata": {
        "id": "s2RY62PxLr0f",
        "colab_type": "text"
      },
      "source": [
        "**Using API by Foursquare:**\n",
        "To use an API which is provided by Foursquare, an URL was created including credentials, coordinates obtained and radius. With the URL, GET request was sent.\n"
      ]
    },
    {
      "cell_type": "markdown",
      "metadata": {
        "id": "gFuz00bpLy4Y",
        "colab_type": "text"
      },
      "source": [
        "**Obtaining data by JSON:**\n",
        "The data was obtained as a JSON file. Essential information was extracted from the file then normalized in a form of dataframe.\n"
      ]
    },
    {
      "cell_type": "markdown",
      "metadata": {
        "id": "v7LEKDDhL1eM",
        "colab_type": "text"
      },
      "source": [
        "**Clustered by categories:**\n",
        "The venues were clustered based on the values under the column, categories. The result of clustering and the existing dataframe were merged. \n"
      ]
    },
    {
      "cell_type": "markdown",
      "metadata": {
        "id": "n3pP5uj9L4Y_",
        "colab_type": "text"
      },
      "source": [
        "**Visualized by Folium:**\n",
        "The clustered venues were visualized on the map using Folium. The map was generated centering around Montreal downtown.\n"
      ]
    },
    {
      "cell_type": "code",
      "metadata": {
        "id": "xFRXNE9BwoQk",
        "colab_type": "code",
        "outputId": "9ce810fa-ff10-46af-f02b-78d627d4cb7f",
        "colab": {
          "base_uri": "https://localhost:8080/",
          "height": 34
        }
      },
      "source": [
        "import requests \n",
        "import pandas as pd \n",
        "import numpy as np \n",
        "import folium \n",
        "\n",
        "from geopy.geocoders import Nominatim \n",
        "from IPython.core.display import HTML     \n",
        "from pandas.io.json import json_normalize\n",
        "\n",
        "print('Libraries imported.')"
      ],
      "execution_count": 29,
      "outputs": [
        {
          "output_type": "stream",
          "text": [
            "Libraries imported.\n"
          ],
          "name": "stdout"
        }
      ]
    },
    {
      "cell_type": "code",
      "metadata": {
        "id": "pLQs5SH_wxDQ",
        "colab_type": "code",
        "colab": {}
      },
      "source": [
        "# Define Foursquare Credentials and Version\n",
        "\n",
        "CLIENT_ID = ''\n",
        "CLIENT_SECRET = '' \n",
        "VERSION = ''\n",
        "LIMIT = 30"
      ],
      "execution_count": 0,
      "outputs": []
    },
    {
      "cell_type": "code",
      "metadata": {
        "id": "Ou_g9mVZw6bs",
        "colab_type": "code",
        "outputId": "b98c2661-c7b6-46fb-e94f-6ec0d126e77e",
        "colab": {
          "base_uri": "https://localhost:8080/",
          "height": 34
        }
      },
      "source": [
        "# Get the coordinates of Montreal\n",
        "\n",
        "address = 'Montreal, QC'\n",
        "\n",
        "geolocator = Nominatim(user_agent=\"mtl_explorer\")\n",
        "location = geolocator.geocode(address)\n",
        "latitude = location.latitude\n",
        "longitude = location.longitude\n",
        "radius = 100000\n",
        "LIMIT = 500\n",
        "print('The geograpical coordinate of Montreal are {}, {}.'.format(latitude, longitude))"
      ],
      "execution_count": 31,
      "outputs": [
        {
          "output_type": "stream",
          "text": [
            "The geograpical coordinate of Montreal are 45.4972159, -73.6103642.\n"
          ],
          "name": "stdout"
        }
      ]
    },
    {
      "cell_type": "code",
      "metadata": {
        "id": "zmCrKZzDzvto",
        "colab_type": "code",
        "outputId": "e0ccc9ae-f493-42ce-c7ea-0f3d2421b4ac",
        "colab": {
          "base_uri": "https://localhost:8080/",
          "height": 54
        }
      },
      "source": [
        "# Create an URL\n",
        "\n",
        "url = 'https://api.foursquare.com/v2/venues/explore?client_id={}&client_secret={}&ll={},{}&v={}&radius={}&limit={}'.format(CLIENT_ID, CLIENT_SECRET, latitude, longitude, VERSION, radius, LIMIT)\n",
        "url\n"
      ],
      "execution_count": 32,
      "outputs": [
        {
          "output_type": "execute_result",
          "data": {
            "text/plain": [
              "'https://api.foursquare.com/v2/venues/explore?client_id=LHQLMZUF4AG2AIKEIARI2GGKBUTDRBMI2BCDQU3UGLA4BPXZ&client_secret=0CFPDJVYDP3MVM2MEQKPJX1JC2IINL5VT5J5OIVEQWVXY225&ll=45.4972159,-73.6103642&v=20200610&radius=100000&limit=500'"
            ]
          },
          "metadata": {
            "tags": []
          },
          "execution_count": 32
        }
      ]
    },
    {
      "cell_type": "code",
      "metadata": {
        "id": "1EDJnvb2z5GR",
        "colab_type": "code",
        "colab": {}
      },
      "source": [
        "# Send GET request then check the results:\n",
        "\n",
        "results = requests.get(url).json()"
      ],
      "execution_count": 0,
      "outputs": []
    },
    {
      "cell_type": "markdown",
      "metadata": {
        "id": "zkMYnd2RUD9r",
        "colab_type": "text"
      },
      "source": [
        "## Analysis <a name=\"analysis\"></a>"
      ]
    },
    {
      "cell_type": "markdown",
      "metadata": {
        "id": "j0pv5dHoM-kb",
        "colab_type": "text"
      },
      "source": [
        "**JSON file:**\n",
        "Since the data was obtained in a form of JSON, investigation of the file was necessary to understand it. The structure of data, including hierarchy among keys and values in dictionaries were checked. It was useful to figure out the location of proper data to extract.\n"
      ]
    },
    {
      "cell_type": "code",
      "metadata": {
        "id": "CvG8PWD60GXA",
        "colab_type": "code",
        "outputId": "527d7c40-dc6b-4d14-af04-ef98a1ca2ef0",
        "colab": {
          "base_uri": "https://localhost:8080/",
          "height": 527
        }
      },
      "source": [
        "items = results['response']['groups'][0]['items']\n",
        "items[0]"
      ],
      "execution_count": 34,
      "outputs": [
        {
          "output_type": "execute_result",
          "data": {
            "text/plain": [
              "{'reasons': {'count': 0,\n",
              "  'items': [{'reasonName': 'globalInteractionReason',\n",
              "    'summary': 'This spot is popular',\n",
              "    'type': 'general'}]},\n",
              " 'referralId': 'e-0-4ad8f749f964a520871621e3-0',\n",
              " 'venue': {'categories': [{'icon': {'prefix': 'https://ss3.4sqi.net/img/categories_v2/parks_outdoors/park_',\n",
              "     'suffix': '.png'},\n",
              "    'id': '4bf58dd8d48988d163941735',\n",
              "    'name': 'Park',\n",
              "    'pluralName': 'Parks',\n",
              "    'primary': True,\n",
              "    'shortName': 'Park'}],\n",
              "  'id': '4ad8f749f964a520871621e3',\n",
              "  'location': {'address': '1260 Chemin Remembrance',\n",
              "   'cc': 'CA',\n",
              "   'city': 'Montréal',\n",
              "   'country': 'Canada',\n",
              "   'distance': 1953,\n",
              "   'formattedAddress': ['1260 Chemin Remembrance',\n",
              "    'Montréal QC H3H 1A2',\n",
              "    'Canada'],\n",
              "   'labeledLatLngs': [{'label': 'display',\n",
              "     'lat': 45.50407921694641,\n",
              "     'lng': -73.58732075575296}],\n",
              "   'lat': 45.50407921694641,\n",
              "   'lng': -73.58732075575296,\n",
              "   'postalCode': 'H3H 1A2',\n",
              "   'state': 'QC'},\n",
              "  'name': 'Parc du Mont-Royal',\n",
              "  'photos': {'count': 0, 'groups': []}}}"
            ]
          },
          "metadata": {
            "tags": []
          },
          "execution_count": 34
        }
      ]
    },
    {
      "cell_type": "markdown",
      "metadata": {
        "id": "6Y23iVB4NbYA",
        "colab_type": "text"
      },
      "source": [
        "**Dataframe:**\n",
        "To transform the data from the JSON file to a dataframe, normalization was performed. Then the number of venues was checked.\n"
      ]
    },
    {
      "cell_type": "code",
      "metadata": {
        "id": "btOA6spB0MHf",
        "colab_type": "code",
        "outputId": "8a01b81a-739b-4dc3-cc63-bf5571f9df43",
        "colab": {
          "base_uri": "https://localhost:8080/",
          "height": 71
        }
      },
      "source": [
        "# Transform the JSON file as Pandas Dataframe\n",
        "\n",
        "df = json_normalize(items)"
      ],
      "execution_count": 35,
      "outputs": [
        {
          "output_type": "stream",
          "text": [
            "/usr/local/lib/python3.6/dist-packages/ipykernel_launcher.py:3: FutureWarning: pandas.io.json.json_normalize is deprecated, use pandas.json_normalize instead\n",
            "  This is separate from the ipykernel package so we can avoid doing imports until\n"
          ],
          "name": "stderr"
        }
      ]
    },
    {
      "cell_type": "code",
      "metadata": {
        "id": "VrBINsud0cF2",
        "colab_type": "code",
        "colab": {}
      },
      "source": [
        "# Filter the columns:\n",
        "\n",
        "filtered_columns = ['venue.name', 'venue.categories'] + [col for col in df.columns if col.startswith('venue.location.')] + ['venue.id']\n",
        "df = df.loc[:, filtered_columns]"
      ],
      "execution_count": 0,
      "outputs": []
    },
    {
      "cell_type": "code",
      "metadata": {
        "id": "6pL0vruK1Dhn",
        "colab_type": "code",
        "colab": {}
      },
      "source": [
        "# Create a function that extracts the category of the venue\n",
        "\n",
        "def get_category_type(row):\n",
        "    try:\n",
        "        categories_list = row['categories']\n",
        "    except:\n",
        "        categories_list = row['venue.categories']\n",
        "        \n",
        "    if len(categories_list) == 0:\n",
        "        return None\n",
        "    else:\n",
        "        return categories_list[0]['name']"
      ],
      "execution_count": 0,
      "outputs": []
    },
    {
      "cell_type": "code",
      "metadata": {
        "id": "FFtTiAqJ1WZp",
        "colab_type": "code",
        "colab": {}
      },
      "source": [
        "df['venue.categories'] = df.apply(get_category_type, axis=1)"
      ],
      "execution_count": 0,
      "outputs": []
    },
    {
      "cell_type": "code",
      "metadata": {
        "id": "8V7sFd241oVw",
        "colab_type": "code",
        "outputId": "047fb458-7f98-412b-9b3d-eb0ffba7dd30",
        "colab": {
          "base_uri": "https://localhost:8080/",
          "height": 34
        }
      },
      "source": [
        "print('{} venues were returned.'.format(df.shape[0]))"
      ],
      "execution_count": 39,
      "outputs": [
        {
          "output_type": "stream",
          "text": [
            "100 venues were returned.\n"
          ],
          "name": "stdout"
        }
      ]
    },
    {
      "cell_type": "code",
      "metadata": {
        "id": "kQ9JDcN61qcu",
        "colab_type": "code",
        "colab": {}
      },
      "source": [
        "# Clean column names by keeping only last term\n",
        "\n",
        "df.columns = [col.split('.')[-1] for col in df.columns]"
      ],
      "execution_count": 0,
      "outputs": []
    },
    {
      "cell_type": "code",
      "metadata": {
        "id": "L857vNQx17mk",
        "colab_type": "code",
        "outputId": "ca9ea308-d252-4ab7-d918-42eaa723d9b2",
        "colab": {
          "base_uri": "https://localhost:8080/",
          "height": 411
        }
      },
      "source": [
        "df.head()"
      ],
      "execution_count": 41,
      "outputs": [
        {
          "output_type": "execute_result",
          "data": {
            "text/html": [
              "<div>\n",
              "<style scoped>\n",
              "    .dataframe tbody tr th:only-of-type {\n",
              "        vertical-align: middle;\n",
              "    }\n",
              "\n",
              "    .dataframe tbody tr th {\n",
              "        vertical-align: top;\n",
              "    }\n",
              "\n",
              "    .dataframe thead th {\n",
              "        text-align: right;\n",
              "    }\n",
              "</style>\n",
              "<table border=\"1\" class=\"dataframe\">\n",
              "  <thead>\n",
              "    <tr style=\"text-align: right;\">\n",
              "      <th></th>\n",
              "      <th>name</th>\n",
              "      <th>categories</th>\n",
              "      <th>address</th>\n",
              "      <th>lat</th>\n",
              "      <th>lng</th>\n",
              "      <th>labeledLatLngs</th>\n",
              "      <th>distance</th>\n",
              "      <th>postalCode</th>\n",
              "      <th>cc</th>\n",
              "      <th>city</th>\n",
              "      <th>state</th>\n",
              "      <th>country</th>\n",
              "      <th>formattedAddress</th>\n",
              "      <th>crossStreet</th>\n",
              "      <th>neighborhood</th>\n",
              "      <th>id</th>\n",
              "    </tr>\n",
              "  </thead>\n",
              "  <tbody>\n",
              "    <tr>\n",
              "      <th>0</th>\n",
              "      <td>Parc du Mont-Royal</td>\n",
              "      <td>Park</td>\n",
              "      <td>1260 Chemin Remembrance</td>\n",
              "      <td>45.504079</td>\n",
              "      <td>-73.587321</td>\n",
              "      <td>[{'label': 'display', 'lat': 45.50407921694641...</td>\n",
              "      <td>1953</td>\n",
              "      <td>H3H 1A2</td>\n",
              "      <td>CA</td>\n",
              "      <td>Montréal</td>\n",
              "      <td>QC</td>\n",
              "      <td>Canada</td>\n",
              "      <td>[1260 Chemin Remembrance, Montréal QC H3H 1A2,...</td>\n",
              "      <td>NaN</td>\n",
              "      <td>NaN</td>\n",
              "      <td>4ad8f749f964a520871621e3</td>\n",
              "    </tr>\n",
              "    <tr>\n",
              "      <th>1</th>\n",
              "      <td>Parc Westmount Park</td>\n",
              "      <td>Park</td>\n",
              "      <td>Parc Westmount</td>\n",
              "      <td>45.481574</td>\n",
              "      <td>-73.597476</td>\n",
              "      <td>[{'label': 'display', 'lat': 45.48157356036293...</td>\n",
              "      <td>2010</td>\n",
              "      <td>NaN</td>\n",
              "      <td>CA</td>\n",
              "      <td>Westmount</td>\n",
              "      <td>QC</td>\n",
              "      <td>Canada</td>\n",
              "      <td>[Parc Westmount, Westmount QC, Canada]</td>\n",
              "      <td>NaN</td>\n",
              "      <td>NaN</td>\n",
              "      <td>4b1b4905f964a5208bfa23e3</td>\n",
              "    </tr>\n",
              "    <tr>\n",
              "      <th>2</th>\n",
              "      <td>Chalet du Mont-Royal</td>\n",
              "      <td>Historic Site</td>\n",
              "      <td>1196 voie Camillien-Houde</td>\n",
              "      <td>45.503904</td>\n",
              "      <td>-73.587460</td>\n",
              "      <td>[{'label': 'display', 'lat': 45.503904, 'lng':...</td>\n",
              "      <td>1935</td>\n",
              "      <td>H3H 1A2</td>\n",
              "      <td>CA</td>\n",
              "      <td>Montréal</td>\n",
              "      <td>QC</td>\n",
              "      <td>Canada</td>\n",
              "      <td>[1196 voie Camillien-Houde (Parc du Mont-Royal...</td>\n",
              "      <td>Parc du Mont-Royal</td>\n",
              "      <td>NaN</td>\n",
              "      <td>4cd6eeddaeb1224b49fc2aff</td>\n",
              "    </tr>\n",
              "    <tr>\n",
              "      <th>3</th>\n",
              "      <td>Want Apothecary</td>\n",
              "      <td>Clothing Store</td>\n",
              "      <td>4960 Sherbrooke Street, West</td>\n",
              "      <td>45.477508</td>\n",
              "      <td>-73.605049</td>\n",
              "      <td>[{'label': 'display', 'lat': 45.47750760210334...</td>\n",
              "      <td>2232</td>\n",
              "      <td>H3Z 1H3</td>\n",
              "      <td>CA</td>\n",
              "      <td>Westmount</td>\n",
              "      <td>QC</td>\n",
              "      <td>Canada</td>\n",
              "      <td>[4960 Sherbrooke Street, West (Claremont Avenu...</td>\n",
              "      <td>Claremont Avenue</td>\n",
              "      <td>NaN</td>\n",
              "      <td>4de4440ed4c07044059821ef</td>\n",
              "    </tr>\n",
              "    <tr>\n",
              "      <th>4</th>\n",
              "      <td>Drawn &amp; Quarterly</td>\n",
              "      <td>Bookstore</td>\n",
              "      <td>211 rue Bernard Ouest</td>\n",
              "      <td>45.524748</td>\n",
              "      <td>-73.604614</td>\n",
              "      <td>[{'label': 'display', 'lat': 45.52474756423502...</td>\n",
              "      <td>3097</td>\n",
              "      <td>H2T 2K5</td>\n",
              "      <td>CA</td>\n",
              "      <td>Montréal</td>\n",
              "      <td>QC</td>\n",
              "      <td>Canada</td>\n",
              "      <td>[211 rue Bernard Ouest, Montréal QC H2T 2K5, C...</td>\n",
              "      <td>NaN</td>\n",
              "      <td>NaN</td>\n",
              "      <td>4ad4c06ff964a5205ffb20e3</td>\n",
              "    </tr>\n",
              "  </tbody>\n",
              "</table>\n",
              "</div>"
            ],
            "text/plain": [
              "                   name      categories  ... neighborhood                        id\n",
              "0    Parc du Mont-Royal            Park  ...          NaN  4ad8f749f964a520871621e3\n",
              "1   Parc Westmount Park            Park  ...          NaN  4b1b4905f964a5208bfa23e3\n",
              "2  Chalet du Mont-Royal   Historic Site  ...          NaN  4cd6eeddaeb1224b49fc2aff\n",
              "3       Want Apothecary  Clothing Store  ...          NaN  4de4440ed4c07044059821ef\n",
              "4     Drawn & Quarterly       Bookstore  ...          NaN  4ad4c06ff964a5205ffb20e3\n",
              "\n",
              "[5 rows x 16 columns]"
            ]
          },
          "metadata": {
            "tags": []
          },
          "execution_count": 41
        }
      ]
    },
    {
      "cell_type": "code",
      "metadata": {
        "id": "YVl7UbWx18N8",
        "colab_type": "code",
        "colab": {}
      },
      "source": [
        "# Generate a map\n",
        "\n",
        "venues_map = folium.Map(location=[latitude, longitude], zoom_start=13) "
      ],
      "execution_count": 0,
      "outputs": []
    },
    {
      "cell_type": "code",
      "metadata": {
        "id": "3qH6rmWX2LP6",
        "colab_type": "code",
        "outputId": "be504b77-818b-4385-d9a6-277ee5fb78cf",
        "colab": {
          "base_uri": "https://localhost:8080/",
          "height": 34
        }
      },
      "source": [
        "# Add a red marker to the map to mark the center of Montreal\n",
        "\n",
        "folium.CircleMarker(\n",
        "    [latitude, longitude],\n",
        "    radius=5,\n",
        "    color='red',\n",
        "    popup='Center of Montreal',\n",
        "    fill = True,\n",
        "    fill_color = 'red',\n",
        "    fill_opacity = 0.6\n",
        ").add_to(venues_map)"
      ],
      "execution_count": 43,
      "outputs": [
        {
          "output_type": "execute_result",
          "data": {
            "text/plain": [
              "<folium.vector_layers.CircleMarker at 0x7fd32fc47438>"
            ]
          },
          "metadata": {
            "tags": []
          },
          "execution_count": 43
        }
      ]
    },
    {
      "cell_type": "code",
      "metadata": {
        "id": "fdUZpbtL2ffK",
        "colab_type": "code",
        "colab": {}
      },
      "source": [
        "# Add the places to the map as blue circle markers\n",
        "\n",
        "for lat, lng, label in zip(df.lat, df.lng, df.categories):\n",
        "    folium.CircleMarker(\n",
        "        [lat, lng],\n",
        "        radius=5,\n",
        "        color='blue',\n",
        "        popup=label,\n",
        "        fill = True,\n",
        "        fill_color='blue',\n",
        "        fill_opacity=0.6\n",
        "    ).add_to(venues_map)"
      ],
      "execution_count": 0,
      "outputs": []
    },
    {
      "cell_type": "code",
      "metadata": {
        "id": "wPa-2Sjp3CJQ",
        "colab_type": "code",
        "outputId": "c1987b2e-f3b6-48d9-dc01-3cdf1b2f4a59",
        "colab": {
          "base_uri": "https://localhost:8080/",
          "height": 808
        }
      },
      "source": [
        "venues_map"
      ],
      "execution_count": 45,
      "outputs": [
        {
          "output_type": "execute_result",
          "data": {
            "text/html": [
              "<div style=\"width:100%;\"><div style=\"position:relative;width:100%;height:0;padding-bottom:60%;\"><span style=\"color:#565656\">Make this Notebook Trusted to load map: File -> Trust Notebook</span><iframe src=\"about:blank\" style=\"position:absolute;width:100%;height:100%;left:0;top:0;border:none !important;\" data-html=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 onload=\"this.contentDocument.open();this.contentDocument.write(atob(this.getAttribute('data-html')));this.contentDocument.close();\" allowfullscreen webkitallowfullscreen mozallowfullscreen></iframe></div></div>"
            ],
            "text/plain": [
              "<folium.folium.Map at 0x7fd32fc370b8>"
            ]
          },
          "metadata": {
            "tags": []
          },
          "execution_count": 45
        }
      ]
    },
    {
      "cell_type": "markdown",
      "metadata": {
        "id": "nc1Th9KmPM8J",
        "colab_type": "text"
      },
      "source": [
        "Clustering was performed using K-means for the venues obtained from the JSON file.\n"
      ]
    },
    {
      "cell_type": "code",
      "metadata": {
        "id": "KwRmfOF03Dyg",
        "colab_type": "code",
        "outputId": "98647f3c-80b0-439c-a306-1c9a44922854",
        "colab": {
          "base_uri": "https://localhost:8080/",
          "height": 34
        }
      },
      "source": [
        "# Cluster the venues using K-means\n",
        "\n",
        "from sklearn.cluster import KMeans\n",
        "\n",
        "import matplotlib.cm as cm\n",
        "import matplotlib.colors as colors\n",
        "\n",
        "print('Libraries imported.')"
      ],
      "execution_count": 46,
      "outputs": [
        {
          "output_type": "stream",
          "text": [
            "Libraries imported.\n"
          ],
          "name": "stdout"
        }
      ]
    },
    {
      "cell_type": "code",
      "metadata": {
        "id": "Dfs5xkYa3fCK",
        "colab_type": "code",
        "colab": {}
      },
      "source": [
        "# Assign the number of clusters\n",
        "kclusters = 7\n",
        "\n",
        "# Encode onehot\n",
        "montreal_onehot = pd.get_dummies(df[['categories']])\n",
        "\n",
        "# Run K-means clustering\n",
        "kmeans = KMeans(n_clusters=kclusters, random_state=0).fit(montreal_onehot)\n",
        "\n",
        "# Add a column for cluster labels\n",
        "montreal_onehot.insert(0, 'Cluster Labels', kmeans.labels_)\n"
      ],
      "execution_count": 0,
      "outputs": []
    },
    {
      "cell_type": "code",
      "metadata": {
        "id": "0Olkn-cu4Q-v",
        "colab_type": "code",
        "outputId": "6a9f5b95-08b5-448d-f0b0-56238ec933c9",
        "colab": {
          "base_uri": "https://localhost:8080/",
          "height": 258
        }
      },
      "source": [
        "montreal_onehot.head()"
      ],
      "execution_count": 48,
      "outputs": [
        {
          "output_type": "execute_result",
          "data": {
            "text/html": [
              "<div>\n",
              "<style scoped>\n",
              "    .dataframe tbody tr th:only-of-type {\n",
              "        vertical-align: middle;\n",
              "    }\n",
              "\n",
              "    .dataframe tbody tr th {\n",
              "        vertical-align: top;\n",
              "    }\n",
              "\n",
              "    .dataframe thead th {\n",
              "        text-align: right;\n",
              "    }\n",
              "</style>\n",
              "<table border=\"1\" class=\"dataframe\">\n",
              "  <thead>\n",
              "    <tr style=\"text-align: right;\">\n",
              "      <th></th>\n",
              "      <th>Cluster Labels</th>\n",
              "      <th>categories_Asian Restaurant</th>\n",
              "      <th>categories_BBQ Joint</th>\n",
              "      <th>categories_Bagel Shop</th>\n",
              "      <th>categories_Bakery</th>\n",
              "      <th>categories_Beer Store</th>\n",
              "      <th>categories_Bookstore</th>\n",
              "      <th>categories_Brewery</th>\n",
              "      <th>categories_Café</th>\n",
              "      <th>categories_Canal</th>\n",
              "      <th>categories_Cheese Shop</th>\n",
              "      <th>categories_Church</th>\n",
              "      <th>categories_Clothing Store</th>\n",
              "      <th>categories_Coffee Shop</th>\n",
              "      <th>categories_College Gym</th>\n",
              "      <th>categories_Concert Hall</th>\n",
              "      <th>categories_Deli / Bodega</th>\n",
              "      <th>categories_Falafel Restaurant</th>\n",
              "      <th>categories_Farmers Market</th>\n",
              "      <th>categories_Fish Market</th>\n",
              "      <th>categories_French Restaurant</th>\n",
              "      <th>categories_Garden</th>\n",
              "      <th>categories_Garden Center</th>\n",
              "      <th>categories_Gourmet Shop</th>\n",
              "      <th>categories_Grocery Store</th>\n",
              "      <th>categories_Gym</th>\n",
              "      <th>categories_Harbor / Marina</th>\n",
              "      <th>categories_Historic Site</th>\n",
              "      <th>categories_Hockey Arena</th>\n",
              "      <th>categories_Hotel</th>\n",
              "      <th>categories_Ice Cream Shop</th>\n",
              "      <th>categories_Liquor Store</th>\n",
              "      <th>categories_Malay Restaurant</th>\n",
              "      <th>categories_Market</th>\n",
              "      <th>categories_Martial Arts Dojo</th>\n",
              "      <th>categories_Mediterranean Restaurant</th>\n",
              "      <th>categories_Mexican Restaurant</th>\n",
              "      <th>categories_Middle Eastern Restaurant</th>\n",
              "      <th>categories_Music Venue</th>\n",
              "      <th>categories_Park</th>\n",
              "      <th>categories_Performing Arts Venue</th>\n",
              "      <th>categories_Plaza</th>\n",
              "      <th>categories_Portuguese Restaurant</th>\n",
              "      <th>categories_Pub</th>\n",
              "      <th>categories_Racetrack</th>\n",
              "      <th>categories_Restaurant</th>\n",
              "      <th>categories_Salad Place</th>\n",
              "      <th>categories_Sandwich Place</th>\n",
              "      <th>categories_Smoke Shop</th>\n",
              "      <th>categories_Spa</th>\n",
              "      <th>categories_Supermarket</th>\n",
              "    </tr>\n",
              "  </thead>\n",
              "  <tbody>\n",
              "    <tr>\n",
              "      <th>0</th>\n",
              "      <td>1</td>\n",
              "      <td>0</td>\n",
              "      <td>0</td>\n",
              "      <td>0</td>\n",
              "      <td>0</td>\n",
              "      <td>0</td>\n",
              "      <td>0</td>\n",
              "      <td>0</td>\n",
              "      <td>0</td>\n",
              "      <td>0</td>\n",
              "      <td>0</td>\n",
              "      <td>0</td>\n",
              "      <td>0</td>\n",
              "      <td>0</td>\n",
              "      <td>0</td>\n",
              "      <td>0</td>\n",
              "      <td>0</td>\n",
              "      <td>0</td>\n",
              "      <td>0</td>\n",
              "      <td>0</td>\n",
              "      <td>0</td>\n",
              "      <td>0</td>\n",
              "      <td>0</td>\n",
              "      <td>0</td>\n",
              "      <td>0</td>\n",
              "      <td>0</td>\n",
              "      <td>0</td>\n",
              "      <td>0</td>\n",
              "      <td>0</td>\n",
              "      <td>0</td>\n",
              "      <td>0</td>\n",
              "      <td>0</td>\n",
              "      <td>0</td>\n",
              "      <td>0</td>\n",
              "      <td>0</td>\n",
              "      <td>0</td>\n",
              "      <td>0</td>\n",
              "      <td>0</td>\n",
              "      <td>0</td>\n",
              "      <td>1</td>\n",
              "      <td>0</td>\n",
              "      <td>0</td>\n",
              "      <td>0</td>\n",
              "      <td>0</td>\n",
              "      <td>0</td>\n",
              "      <td>0</td>\n",
              "      <td>0</td>\n",
              "      <td>0</td>\n",
              "      <td>0</td>\n",
              "      <td>0</td>\n",
              "      <td>0</td>\n",
              "    </tr>\n",
              "    <tr>\n",
              "      <th>1</th>\n",
              "      <td>1</td>\n",
              "      <td>0</td>\n",
              "      <td>0</td>\n",
              "      <td>0</td>\n",
              "      <td>0</td>\n",
              "      <td>0</td>\n",
              "      <td>0</td>\n",
              "      <td>0</td>\n",
              "      <td>0</td>\n",
              "      <td>0</td>\n",
              "      <td>0</td>\n",
              "      <td>0</td>\n",
              "      <td>0</td>\n",
              "      <td>0</td>\n",
              "      <td>0</td>\n",
              "      <td>0</td>\n",
              "      <td>0</td>\n",
              "      <td>0</td>\n",
              "      <td>0</td>\n",
              "      <td>0</td>\n",
              "      <td>0</td>\n",
              "      <td>0</td>\n",
              "      <td>0</td>\n",
              "      <td>0</td>\n",
              "      <td>0</td>\n",
              "      <td>0</td>\n",
              "      <td>0</td>\n",
              "      <td>0</td>\n",
              "      <td>0</td>\n",
              "      <td>0</td>\n",
              "      <td>0</td>\n",
              "      <td>0</td>\n",
              "      <td>0</td>\n",
              "      <td>0</td>\n",
              "      <td>0</td>\n",
              "      <td>0</td>\n",
              "      <td>0</td>\n",
              "      <td>0</td>\n",
              "      <td>0</td>\n",
              "      <td>1</td>\n",
              "      <td>0</td>\n",
              "      <td>0</td>\n",
              "      <td>0</td>\n",
              "      <td>0</td>\n",
              "      <td>0</td>\n",
              "      <td>0</td>\n",
              "      <td>0</td>\n",
              "      <td>0</td>\n",
              "      <td>0</td>\n",
              "      <td>0</td>\n",
              "      <td>0</td>\n",
              "    </tr>\n",
              "    <tr>\n",
              "      <th>2</th>\n",
              "      <td>0</td>\n",
              "      <td>0</td>\n",
              "      <td>0</td>\n",
              "      <td>0</td>\n",
              "      <td>0</td>\n",
              "      <td>0</td>\n",
              "      <td>0</td>\n",
              "      <td>0</td>\n",
              "      <td>0</td>\n",
              "      <td>0</td>\n",
              "      <td>0</td>\n",
              "      <td>0</td>\n",
              "      <td>0</td>\n",
              "      <td>0</td>\n",
              "      <td>0</td>\n",
              "      <td>0</td>\n",
              "      <td>0</td>\n",
              "      <td>0</td>\n",
              "      <td>0</td>\n",
              "      <td>0</td>\n",
              "      <td>0</td>\n",
              "      <td>0</td>\n",
              "      <td>0</td>\n",
              "      <td>0</td>\n",
              "      <td>0</td>\n",
              "      <td>0</td>\n",
              "      <td>0</td>\n",
              "      <td>1</td>\n",
              "      <td>0</td>\n",
              "      <td>0</td>\n",
              "      <td>0</td>\n",
              "      <td>0</td>\n",
              "      <td>0</td>\n",
              "      <td>0</td>\n",
              "      <td>0</td>\n",
              "      <td>0</td>\n",
              "      <td>0</td>\n",
              "      <td>0</td>\n",
              "      <td>0</td>\n",
              "      <td>0</td>\n",
              "      <td>0</td>\n",
              "      <td>0</td>\n",
              "      <td>0</td>\n",
              "      <td>0</td>\n",
              "      <td>0</td>\n",
              "      <td>0</td>\n",
              "      <td>0</td>\n",
              "      <td>0</td>\n",
              "      <td>0</td>\n",
              "      <td>0</td>\n",
              "      <td>0</td>\n",
              "    </tr>\n",
              "    <tr>\n",
              "      <th>3</th>\n",
              "      <td>0</td>\n",
              "      <td>0</td>\n",
              "      <td>0</td>\n",
              "      <td>0</td>\n",
              "      <td>0</td>\n",
              "      <td>0</td>\n",
              "      <td>0</td>\n",
              "      <td>0</td>\n",
              "      <td>0</td>\n",
              "      <td>0</td>\n",
              "      <td>0</td>\n",
              "      <td>0</td>\n",
              "      <td>1</td>\n",
              "      <td>0</td>\n",
              "      <td>0</td>\n",
              "      <td>0</td>\n",
              "      <td>0</td>\n",
              "      <td>0</td>\n",
              "      <td>0</td>\n",
              "      <td>0</td>\n",
              "      <td>0</td>\n",
              "      <td>0</td>\n",
              "      <td>0</td>\n",
              "      <td>0</td>\n",
              "      <td>0</td>\n",
              "      <td>0</td>\n",
              "      <td>0</td>\n",
              "      <td>0</td>\n",
              "      <td>0</td>\n",
              "      <td>0</td>\n",
              "      <td>0</td>\n",
              "      <td>0</td>\n",
              "      <td>0</td>\n",
              "      <td>0</td>\n",
              "      <td>0</td>\n",
              "      <td>0</td>\n",
              "      <td>0</td>\n",
              "      <td>0</td>\n",
              "      <td>0</td>\n",
              "      <td>0</td>\n",
              "      <td>0</td>\n",
              "      <td>0</td>\n",
              "      <td>0</td>\n",
              "      <td>0</td>\n",
              "      <td>0</td>\n",
              "      <td>0</td>\n",
              "      <td>0</td>\n",
              "      <td>0</td>\n",
              "      <td>0</td>\n",
              "      <td>0</td>\n",
              "      <td>0</td>\n",
              "    </tr>\n",
              "    <tr>\n",
              "      <th>4</th>\n",
              "      <td>0</td>\n",
              "      <td>0</td>\n",
              "      <td>0</td>\n",
              "      <td>0</td>\n",
              "      <td>0</td>\n",
              "      <td>0</td>\n",
              "      <td>1</td>\n",
              "      <td>0</td>\n",
              "      <td>0</td>\n",
              "      <td>0</td>\n",
              "      <td>0</td>\n",
              "      <td>0</td>\n",
              "      <td>0</td>\n",
              "      <td>0</td>\n",
              "      <td>0</td>\n",
              "      <td>0</td>\n",
              "      <td>0</td>\n",
              "      <td>0</td>\n",
              "      <td>0</td>\n",
              "      <td>0</td>\n",
              "      <td>0</td>\n",
              "      <td>0</td>\n",
              "      <td>0</td>\n",
              "      <td>0</td>\n",
              "      <td>0</td>\n",
              "      <td>0</td>\n",
              "      <td>0</td>\n",
              "      <td>0</td>\n",
              "      <td>0</td>\n",
              "      <td>0</td>\n",
              "      <td>0</td>\n",
              "      <td>0</td>\n",
              "      <td>0</td>\n",
              "      <td>0</td>\n",
              "      <td>0</td>\n",
              "      <td>0</td>\n",
              "      <td>0</td>\n",
              "      <td>0</td>\n",
              "      <td>0</td>\n",
              "      <td>0</td>\n",
              "      <td>0</td>\n",
              "      <td>0</td>\n",
              "      <td>0</td>\n",
              "      <td>0</td>\n",
              "      <td>0</td>\n",
              "      <td>0</td>\n",
              "      <td>0</td>\n",
              "      <td>0</td>\n",
              "      <td>0</td>\n",
              "      <td>0</td>\n",
              "      <td>0</td>\n",
              "    </tr>\n",
              "  </tbody>\n",
              "</table>\n",
              "</div>"
            ],
            "text/plain": [
              "   Cluster Labels  ...  categories_Supermarket\n",
              "0               1  ...                       0\n",
              "1               1  ...                       0\n",
              "2               0  ...                       0\n",
              "3               0  ...                       0\n",
              "4               0  ...                       0\n",
              "\n",
              "[5 rows x 51 columns]"
            ]
          },
          "metadata": {
            "tags": []
          },
          "execution_count": 48
        }
      ]
    },
    {
      "cell_type": "code",
      "metadata": {
        "id": "HDX41mXk4jsk",
        "colab_type": "code",
        "colab": {}
      },
      "source": [
        "# Add the cluster labels into the dataframe\n",
        "df['Cluster Labels'] = montreal_onehot['Cluster Labels'] "
      ],
      "execution_count": 0,
      "outputs": []
    },
    {
      "cell_type": "markdown",
      "metadata": {
        "id": "c946TCY6PlCc",
        "colab_type": "text"
      },
      "source": [
        "To visualize the data, a color schema was set to clusters. It means that the color of the spots on the map are different depending on the categories that they belong to.\n"
      ]
    },
    {
      "cell_type": "code",
      "metadata": {
        "id": "lDsT3DT04_w5",
        "colab_type": "code",
        "outputId": "bd40d15c-abb5-4f25-bbf6-4fe1f4de9916",
        "colab": {
          "base_uri": "https://localhost:8080/",
          "height": 808
        }
      },
      "source": [
        "map_clusters = folium.Map(location=[latitude, longitude], zoom_start=13)\n",
        "\n",
        "# Set a color schema to clusters\n",
        "x = np.arange(kclusters)\n",
        "ys = [i + x + (i*x)**2 for i in range(kclusters)]\n",
        "colors_array = cm.rainbow(np.linspace(0, 1, len(ys))) \n",
        "rainbow = [colors.rgb2hex(i) for i in colors_array]\n",
        "\n",
        "# Add markers on the map\n",
        "markers_colors = []\n",
        "for lat, lon, poi, cluster in zip(df['lat'], df['lng'], df['categories'], df['Cluster Labels']):\n",
        "    label = folium.Popup(str(poi) + ' Cluster ' + str(cluster), parse_html=True)\n",
        "    folium.CircleMarker(\n",
        "        [lat, lon],\n",
        "        radius=5,\n",
        "        popup=label,\n",
        "        color=rainbow[cluster-1],\n",
        "        fill=True,\n",
        "        fill_color=rainbow[cluster-1],\n",
        "        fill_opacity=0.7).add_to(map_clusters)\n",
        "\n",
        "map_clusters"
      ],
      "execution_count": 50,
      "outputs": [
        {
          "output_type": "execute_result",
          "data": {
            "text/html": [
              "<div style=\"width:100%;\"><div style=\"position:relative;width:100%;height:0;padding-bottom:60%;\"><span style=\"color:#565656\">Make this Notebook Trusted to load map: File -> Trust Notebook</span><iframe src=\"about:blank\" style=\"position:absolute;width:100%;height:100%;left:0;top:0;border:none !important;\" data-html=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 onload=\"this.contentDocument.open();this.contentDocument.write(atob(this.getAttribute('data-html')));this.contentDocument.close();\" allowfullscreen webkitallowfullscreen mozallowfullscreen></iframe></div></div>"
            ],
            "text/plain": [
              "<folium.folium.Map at 0x7fd31fdebac8>"
            ]
          },
          "metadata": {
            "tags": []
          },
          "execution_count": 50
        }
      ]
    },
    {
      "cell_type": "markdown",
      "metadata": {
        "id": "qSwbp9fzWxao",
        "colab_type": "text"
      },
      "source": [
        "## Results <a name=\"results\"></a>"
      ]
    },
    {
      "cell_type": "markdown",
      "metadata": {
        "id": "B2pJ3oIsP-x5",
        "colab_type": "text"
      },
      "source": [
        "From the JSON file, 100 venues in Montreal and their information were acquired."
      ]
    },
    {
      "cell_type": "markdown",
      "metadata": {
        "id": "GA2lYUzxQASj",
        "colab_type": "text"
      },
      "source": [
        "The data was transformed into a dataframe. Through a modification of the table including filtering columns, extracting categories data, and cleaning column names keeping last terms, a visible dataframe was presented.\n"
      ]
    },
    {
      "cell_type": "markdown",
      "metadata": {
        "id": "oDzMAlYqQH1j",
        "colab_type": "text"
      },
      "source": [
        "The venues were visualized on a map using Folium. The red marker presented the center of the city, and the blue ones displayed the venues.\n",
        "The map showed that most spots are scattered in downtown and Le Plateau - Mont-Royal."
      ]
    },
    {
      "cell_type": "markdown",
      "metadata": {
        "id": "SClpIMpyQby2",
        "colab_type": "text"
      },
      "source": [
        "As the next step, the spots were clustered using K-means. All venues belonged to 7 clusters.\n"
      ]
    },
    {
      "cell_type": "markdown",
      "metadata": {
        "id": "mR_7yrxyQYIP",
        "colab_type": "text"
      },
      "source": [
        "The clustered spots were visualized on the map. Spots were supposed to be presented in the same color by the cluster they belonged to. When clicking on the spots, the categories and cluster names were popped up.\n",
        "\n"
      ]
    },
    {
      "cell_type": "markdown",
      "metadata": {
        "id": "5badxt-f6fHk",
        "colab_type": "text"
      },
      "source": [
        "Issue occured: various categories are included in same clusters"
      ]
    },
    {
      "cell_type": "markdown",
      "metadata": {
        "id": "tnEcD8NjRNzo",
        "colab_type": "text"
      },
      "source": [
        "## Discussion <a name=\"discussion\"></a>"
      ]
    },
    {
      "cell_type": "markdown",
      "metadata": {
        "id": "LybbriDqRbGz",
        "colab_type": "text"
      },
      "source": [
        "During the investigation of visualization, an issue was found.\n",
        "On the map, various types of venues were displayed in the same color. \n"
      ]
    },
    {
      "cell_type": "markdown",
      "metadata": {
        "id": "HYVhWcHKRhSe",
        "colab_type": "text"
      },
      "source": [
        "It was verified that these various kinds of business were included in the same cluster:"
      ]
    },
    {
      "cell_type": "code",
      "metadata": {
        "id": "KikuHo1k5ZcF",
        "colab_type": "code",
        "outputId": "fcb28929-ced6-48f4-eed9-05b554da11aa",
        "colab": {
          "base_uri": "https://localhost:8080/",
          "height": 1000
        }
      },
      "source": [
        "df.loc[df['Cluster Labels'] == 0, df.columns[[1] + [0] + [2]]]"
      ],
      "execution_count": 51,
      "outputs": [
        {
          "output_type": "execute_result",
          "data": {
            "text/html": [
              "<div>\n",
              "<style scoped>\n",
              "    .dataframe tbody tr th:only-of-type {\n",
              "        vertical-align: middle;\n",
              "    }\n",
              "\n",
              "    .dataframe tbody tr th {\n",
              "        vertical-align: top;\n",
              "    }\n",
              "\n",
              "    .dataframe thead th {\n",
              "        text-align: right;\n",
              "    }\n",
              "</style>\n",
              "<table border=\"1\" class=\"dataframe\">\n",
              "  <thead>\n",
              "    <tr style=\"text-align: right;\">\n",
              "      <th></th>\n",
              "      <th>categories</th>\n",
              "      <th>name</th>\n",
              "      <th>address</th>\n",
              "    </tr>\n",
              "  </thead>\n",
              "  <tbody>\n",
              "    <tr>\n",
              "      <th>2</th>\n",
              "      <td>Historic Site</td>\n",
              "      <td>Chalet du Mont-Royal</td>\n",
              "      <td>1196 voie Camillien-Houde</td>\n",
              "    </tr>\n",
              "    <tr>\n",
              "      <th>3</th>\n",
              "      <td>Clothing Store</td>\n",
              "      <td>Want Apothecary</td>\n",
              "      <td>4960 Sherbrooke Street, West</td>\n",
              "    </tr>\n",
              "    <tr>\n",
              "      <th>4</th>\n",
              "      <td>Bookstore</td>\n",
              "      <td>Drawn &amp; Quarterly</td>\n",
              "      <td>211 rue Bernard Ouest</td>\n",
              "    </tr>\n",
              "    <tr>\n",
              "      <th>7</th>\n",
              "      <td>Grocery Store</td>\n",
              "      <td>Milano Fruiterie</td>\n",
              "      <td>6862 boul. Saint-Laurent</td>\n",
              "    </tr>\n",
              "    <tr>\n",
              "      <th>9</th>\n",
              "      <td>Market</td>\n",
              "      <td>Marché Atwater</td>\n",
              "      <td>138 ave. Atwater</td>\n",
              "    </tr>\n",
              "    <tr>\n",
              "      <th>10</th>\n",
              "      <td>Farmers Market</td>\n",
              "      <td>Marché Jean-Talon</td>\n",
              "      <td>7070 avenue Henri-Julien</td>\n",
              "    </tr>\n",
              "    <tr>\n",
              "      <th>11</th>\n",
              "      <td>Historic Site</td>\n",
              "      <td>Vieux-Port de Montréal / Old Port of Montreal ...</td>\n",
              "      <td>Vieux-Port de Montréal</td>\n",
              "    </tr>\n",
              "    <tr>\n",
              "      <th>12</th>\n",
              "      <td>Performing Arts Venue</td>\n",
              "      <td>Place des Arts</td>\n",
              "      <td>175 rue Sainte-Catherine Ouest</td>\n",
              "    </tr>\n",
              "    <tr>\n",
              "      <th>14</th>\n",
              "      <td>Plaza</td>\n",
              "      <td>Place des Festivals</td>\n",
              "      <td>Quartier des Spectacles</td>\n",
              "    </tr>\n",
              "    <tr>\n",
              "      <th>15</th>\n",
              "      <td>Canal</td>\n",
              "      <td>Canal-de-Lachine</td>\n",
              "      <td>Lachine canal / Canal de Lachine</td>\n",
              "    </tr>\n",
              "    <tr>\n",
              "      <th>18</th>\n",
              "      <td>Deli / Bodega</td>\n",
              "      <td>Boucherie Lawrence</td>\n",
              "      <td>5237 St Laurent</td>\n",
              "    </tr>\n",
              "    <tr>\n",
              "      <th>19</th>\n",
              "      <td>Music Venue</td>\n",
              "      <td>96,9 CKOI</td>\n",
              "      <td>1100-800 rue De La Gauchetière Ouest</td>\n",
              "    </tr>\n",
              "    <tr>\n",
              "      <th>20</th>\n",
              "      <td>Mediterranean Restaurant</td>\n",
              "      <td>Damas</td>\n",
              "      <td>1201 Van Horne</td>\n",
              "    </tr>\n",
              "    <tr>\n",
              "      <th>21</th>\n",
              "      <td>Mexican Restaurant</td>\n",
              "      <td>La Tamalera</td>\n",
              "      <td>226, avenue Fairmount Ouest</td>\n",
              "    </tr>\n",
              "    <tr>\n",
              "      <th>23</th>\n",
              "      <td>Concert Hall</td>\n",
              "      <td>La Maison Symphonique de Montréal</td>\n",
              "      <td>1600 rue Saint-Urbain</td>\n",
              "    </tr>\n",
              "    <tr>\n",
              "      <th>27</th>\n",
              "      <td>College Gym</td>\n",
              "      <td>CEPSUM</td>\n",
              "      <td>2100 boul. Édouard-Montpetit</td>\n",
              "    </tr>\n",
              "    <tr>\n",
              "      <th>30</th>\n",
              "      <td>Bagel Shop</td>\n",
              "      <td>St-Viateur Bagel (La Maison du Bagel)</td>\n",
              "      <td>263 rue Saint-Viateur Ouest</td>\n",
              "    </tr>\n",
              "    <tr>\n",
              "      <th>34</th>\n",
              "      <td>Grocery Store</td>\n",
              "      <td>Adonis</td>\n",
              "      <td>225 rue Peel</td>\n",
              "    </tr>\n",
              "    <tr>\n",
              "      <th>36</th>\n",
              "      <td>Coffee Shop</td>\n",
              "      <td>Pikolo Espresso Bar</td>\n",
              "      <td>3418B, av. du Parc</td>\n",
              "    </tr>\n",
              "    <tr>\n",
              "      <th>37</th>\n",
              "      <td>Brewery</td>\n",
              "      <td>Microbrasserie 4 Origines</td>\n",
              "      <td>1304 St-Patrick</td>\n",
              "    </tr>\n",
              "    <tr>\n",
              "      <th>39</th>\n",
              "      <td>Hotel</td>\n",
              "      <td>Hôtel Le Germain Montréal - NOW OPEN</td>\n",
              "      <td>2050, Rue Mansfield</td>\n",
              "    </tr>\n",
              "    <tr>\n",
              "      <th>40</th>\n",
              "      <td>Ice Cream Shop</td>\n",
              "      <td>Kem CoBa</td>\n",
              "      <td>60 Fairmount Ouest</td>\n",
              "    </tr>\n",
              "    <tr>\n",
              "      <th>42</th>\n",
              "      <td>Middle Eastern Restaurant</td>\n",
              "      <td>Trip de Bouffe</td>\n",
              "      <td>277 Avenue Mont-Royal Est</td>\n",
              "    </tr>\n",
              "    <tr>\n",
              "      <th>44</th>\n",
              "      <td>Cheese Shop</td>\n",
              "      <td>Fromagerie Copette et cie</td>\n",
              "      <td>4650 rue Wellington</td>\n",
              "    </tr>\n",
              "    <tr>\n",
              "      <th>48</th>\n",
              "      <td>Portuguese Restaurant</td>\n",
              "      <td>Rôtisserie Romados</td>\n",
              "      <td>115 Rue Rachel Est</td>\n",
              "    </tr>\n",
              "    <tr>\n",
              "      <th>49</th>\n",
              "      <td>Plaza</td>\n",
              "      <td>Place Jacques Cartier</td>\n",
              "      <td>Place Jacques Cartier</td>\n",
              "    </tr>\n",
              "    <tr>\n",
              "      <th>53</th>\n",
              "      <td>Coffee Shop</td>\n",
              "      <td>Café dei Campi</td>\n",
              "      <td>1360 Rosemont</td>\n",
              "    </tr>\n",
              "    <tr>\n",
              "      <th>54</th>\n",
              "      <td>Malay Restaurant</td>\n",
              "      <td>Satay Brothers</td>\n",
              "      <td>3721, rue Notre Dame Ouest</td>\n",
              "    </tr>\n",
              "    <tr>\n",
              "      <th>56</th>\n",
              "      <td>BBQ Joint</td>\n",
              "      <td>Dinette Triple Crown</td>\n",
              "      <td>6704 rue Clark</td>\n",
              "    </tr>\n",
              "    <tr>\n",
              "      <th>57</th>\n",
              "      <td>Harbor / Marina</td>\n",
              "      <td>Quai de l'Horloge / Clock Tower quay</td>\n",
              "      <td>Rue Quai de l'Horloge</td>\n",
              "    </tr>\n",
              "    <tr>\n",
              "      <th>58</th>\n",
              "      <td>Hockey Arena</td>\n",
              "      <td>Centre Bell</td>\n",
              "      <td>1909 Ave. des Canadiens-de-Montréal</td>\n",
              "    </tr>\n",
              "    <tr>\n",
              "      <th>59</th>\n",
              "      <td>Liquor Store</td>\n",
              "      <td>SAQ Sélection</td>\n",
              "      <td>155 Av Atwater</td>\n",
              "    </tr>\n",
              "    <tr>\n",
              "      <th>60</th>\n",
              "      <td>Falafel Restaurant</td>\n",
              "      <td>Falafel St-Jacques</td>\n",
              "      <td>345 Rue St-Jacques</td>\n",
              "    </tr>\n",
              "    <tr>\n",
              "      <th>63</th>\n",
              "      <td>Coffee Shop</td>\n",
              "      <td>Myriade Espresso Bar</td>\n",
              "      <td>4627 Saint-Denis Street</td>\n",
              "    </tr>\n",
              "    <tr>\n",
              "      <th>64</th>\n",
              "      <td>French Restaurant</td>\n",
              "      <td>Au Pied de Cochon</td>\n",
              "      <td>536 Ave. Duluth Est.</td>\n",
              "    </tr>\n",
              "    <tr>\n",
              "      <th>65</th>\n",
              "      <td>Supermarket</td>\n",
              "      <td>PA Nature</td>\n",
              "      <td>5029 Ave du Parc</td>\n",
              "    </tr>\n",
              "    <tr>\n",
              "      <th>67</th>\n",
              "      <td>Sandwich Place</td>\n",
              "      <td>Olive et Gourmando</td>\n",
              "      <td>351, rue Saint-Paul Ouest</td>\n",
              "    </tr>\n",
              "    <tr>\n",
              "      <th>69</th>\n",
              "      <td>Bagel Shop</td>\n",
              "      <td>Fairmount Bagel</td>\n",
              "      <td>74 Fairmount O</td>\n",
              "    </tr>\n",
              "    <tr>\n",
              "      <th>70</th>\n",
              "      <td>Pub</td>\n",
              "      <td>Pub BreWskey</td>\n",
              "      <td>380, rue Saint-Paul Est</td>\n",
              "    </tr>\n",
              "    <tr>\n",
              "      <th>71</th>\n",
              "      <td>Brewery</td>\n",
              "      <td>MaBrasserie</td>\n",
              "      <td>2300, rue Holt</td>\n",
              "    </tr>\n",
              "    <tr>\n",
              "      <th>72</th>\n",
              "      <td>Portuguese Restaurant</td>\n",
              "      <td>Ma Poule Mouillée</td>\n",
              "      <td>969 rue Rachel E</td>\n",
              "    </tr>\n",
              "    <tr>\n",
              "      <th>74</th>\n",
              "      <td>Gourmet Shop</td>\n",
              "      <td>FOU D'ICI</td>\n",
              "      <td>360 boul. De Maisonneuve Ouest</td>\n",
              "    </tr>\n",
              "    <tr>\n",
              "      <th>76</th>\n",
              "      <td>Beer Store</td>\n",
              "      <td>Dépanneur Peluso</td>\n",
              "      <td>1900 Rachel</td>\n",
              "    </tr>\n",
              "    <tr>\n",
              "      <th>77</th>\n",
              "      <td>Racetrack</td>\n",
              "      <td>Circuit Gilles-Villeneuve</td>\n",
              "      <td>1, circuit Gilles-Villeneuve</td>\n",
              "    </tr>\n",
              "    <tr>\n",
              "      <th>78</th>\n",
              "      <td>Smoke Shop</td>\n",
              "      <td>Casa del Habano</td>\n",
              "      <td>1434 rue Sherbrooke Ouest</td>\n",
              "    </tr>\n",
              "    <tr>\n",
              "      <th>80</th>\n",
              "      <td>Garden</td>\n",
              "      <td>Jardin Botanique de Montréal / Montreal Botani...</td>\n",
              "      <td>4101 rue Sherbrooke E</td>\n",
              "    </tr>\n",
              "    <tr>\n",
              "      <th>81</th>\n",
              "      <td>Gym</td>\n",
              "      <td>Midtown Le Sporting Club Sanctuaire</td>\n",
              "      <td>6105 avenue du Boisé</td>\n",
              "    </tr>\n",
              "    <tr>\n",
              "      <th>82</th>\n",
              "      <td>Liquor Store</td>\n",
              "      <td>SAQ Sélection</td>\n",
              "      <td>900 Rue Beaubien E</td>\n",
              "    </tr>\n",
              "    <tr>\n",
              "      <th>86</th>\n",
              "      <td>Bagel Shop</td>\n",
              "      <td>Bagel St-Lo</td>\n",
              "      <td>5411 rue de Verdun</td>\n",
              "    </tr>\n",
              "    <tr>\n",
              "      <th>88</th>\n",
              "      <td>Salad Place</td>\n",
              "      <td>Mandy's</td>\n",
              "      <td>423, rue Saint-Nicolas</td>\n",
              "    </tr>\n",
              "    <tr>\n",
              "      <th>89</th>\n",
              "      <td>Fish Market</td>\n",
              "      <td>Odessa l'Entrepôt</td>\n",
              "      <td>100-4900 rue Molson</td>\n",
              "    </tr>\n",
              "    <tr>\n",
              "      <th>91</th>\n",
              "      <td>Asian Restaurant</td>\n",
              "      <td>Wing Phat</td>\n",
              "      <td>4201 Jarry E</td>\n",
              "    </tr>\n",
              "    <tr>\n",
              "      <th>93</th>\n",
              "      <td>Martial Arts Dojo</td>\n",
              "      <td>Académie Arts Martiaux Brossard</td>\n",
              "      <td>1505, boulevard Provencher</td>\n",
              "    </tr>\n",
              "    <tr>\n",
              "      <th>99</th>\n",
              "      <td>Garden Center</td>\n",
              "      <td>Pépinière Jasmin</td>\n",
              "      <td>6305 Boulevard Henri Bourassa</td>\n",
              "    </tr>\n",
              "  </tbody>\n",
              "</table>\n",
              "</div>"
            ],
            "text/plain": [
              "                   categories  ...                               address\n",
              "2               Historic Site  ...             1196 voie Camillien-Houde\n",
              "3              Clothing Store  ...          4960 Sherbrooke Street, West\n",
              "4                   Bookstore  ...                 211 rue Bernard Ouest\n",
              "7               Grocery Store  ...              6862 boul. Saint-Laurent\n",
              "9                      Market  ...                      138 ave. Atwater\n",
              "10             Farmers Market  ...              7070 avenue Henri-Julien\n",
              "11              Historic Site  ...                Vieux-Port de Montréal\n",
              "12      Performing Arts Venue  ...        175 rue Sainte-Catherine Ouest\n",
              "14                      Plaza  ...               Quartier des Spectacles\n",
              "15                      Canal  ...      Lachine canal / Canal de Lachine\n",
              "18              Deli / Bodega  ...                       5237 St Laurent\n",
              "19                Music Venue  ...  1100-800 rue De La Gauchetière Ouest\n",
              "20   Mediterranean Restaurant  ...                        1201 Van Horne\n",
              "21         Mexican Restaurant  ...           226, avenue Fairmount Ouest\n",
              "23               Concert Hall  ...                 1600 rue Saint-Urbain\n",
              "27                College Gym  ...          2100 boul. Édouard-Montpetit\n",
              "30                 Bagel Shop  ...           263 rue Saint-Viateur Ouest\n",
              "34              Grocery Store  ...                          225 rue Peel\n",
              "36                Coffee Shop  ...                    3418B, av. du Parc\n",
              "37                    Brewery  ...                       1304 St-Patrick\n",
              "39                      Hotel  ...                   2050, Rue Mansfield\n",
              "40             Ice Cream Shop  ...                    60 Fairmount Ouest\n",
              "42  Middle Eastern Restaurant  ...             277 Avenue Mont-Royal Est\n",
              "44                Cheese Shop  ...                   4650 rue Wellington\n",
              "48      Portuguese Restaurant  ...                    115 Rue Rachel Est\n",
              "49                      Plaza  ...                 Place Jacques Cartier\n",
              "53                Coffee Shop  ...                         1360 Rosemont\n",
              "54           Malay Restaurant  ...            3721, rue Notre Dame Ouest\n",
              "56                  BBQ Joint  ...                        6704 rue Clark\n",
              "57            Harbor / Marina  ...                 Rue Quai de l'Horloge\n",
              "58               Hockey Arena  ...   1909 Ave. des Canadiens-de-Montréal\n",
              "59               Liquor Store  ...                        155 Av Atwater\n",
              "60         Falafel Restaurant  ...                    345 Rue St-Jacques\n",
              "63                Coffee Shop  ...               4627 Saint-Denis Street\n",
              "64          French Restaurant  ...                  536 Ave. Duluth Est.\n",
              "65                Supermarket  ...                      5029 Ave du Parc\n",
              "67             Sandwich Place  ...             351, rue Saint-Paul Ouest\n",
              "69                 Bagel Shop  ...                        74 Fairmount O\n",
              "70                        Pub  ...               380, rue Saint-Paul Est\n",
              "71                    Brewery  ...                        2300, rue Holt\n",
              "72      Portuguese Restaurant  ...                      969 rue Rachel E\n",
              "74               Gourmet Shop  ...        360 boul. De Maisonneuve Ouest\n",
              "76                 Beer Store  ...                           1900 Rachel\n",
              "77                  Racetrack  ...          1, circuit Gilles-Villeneuve\n",
              "78                 Smoke Shop  ...             1434 rue Sherbrooke Ouest\n",
              "80                     Garden  ...                 4101 rue Sherbrooke E\n",
              "81                        Gym  ...                  6105 avenue du Boisé\n",
              "82               Liquor Store  ...                    900 Rue Beaubien E\n",
              "86                 Bagel Shop  ...                    5411 rue de Verdun\n",
              "88                Salad Place  ...                423, rue Saint-Nicolas\n",
              "89                Fish Market  ...                   100-4900 rue Molson\n",
              "91           Asian Restaurant  ...                          4201 Jarry E\n",
              "93          Martial Arts Dojo  ...            1505, boulevard Provencher\n",
              "99              Garden Center  ...         6305 Boulevard Henri Bourassa\n",
              "\n",
              "[54 rows x 3 columns]"
            ]
          },
          "metadata": {
            "tags": []
          },
          "execution_count": 51
        }
      ]
    },
    {
      "cell_type": "markdown",
      "metadata": {
        "id": "kNzgGBMy6qsK",
        "colab_type": "text"
      },
      "source": [
        "This issue still occurred when increasing the number of clusters. Only the first cluster had the problem. The issue seemed less messy when the spots were classified into 45 clusters. However, 45 clusters for 100 spots does not seem to be meaningful, nor for visualization. \n",
        "\n",
        "\n"
      ]
    },
    {
      "cell_type": "markdown",
      "metadata": {
        "id": "7e6T_jsf7T_E",
        "colab_type": "text"
      },
      "source": [
        "Also, there was another issue even when clustering them into 45 tables: unorganized category names. For example, “Mexican Restaurant” was in a different cluster than “Restaurant”. And “Coffee Shop” did not belong to the same cluster with “Café\"."
      ]
    },
    {
      "cell_type": "markdown",
      "metadata": {
        "id": "-tMhQjAUR3SD",
        "colab_type": "text"
      },
      "source": [
        "The goal of organization was set to group them in 7 general categories. To perform this, a new column, “NewCat” was added into the dataframe. Then the values under the categories were assigned according to the conditions. For example, if a value included a word, “Restaurant” or “coffee”, they belonged to a new category, “Food & Drinks”. "
      ]
    },
    {
      "cell_type": "markdown",
      "metadata": {
        "id": "iRemMoFkR7EF",
        "colab_type": "text"
      },
      "source": [
        "In this way, the old category column had been replaced as the new one:"
      ]
    },
    {
      "cell_type": "code",
      "metadata": {
        "id": "DDQjUjT569eu",
        "colab_type": "code",
        "outputId": "384dfec2-44f9-4bf2-c083-14d76dbd5fdd",
        "colab": {
          "base_uri": "https://localhost:8080/",
          "height": 233
        }
      },
      "source": [
        " # Create a new coulmn in the dataframe\n",
        " # Assign the values according to the conditions\n",
        " \n",
        " df.loc[(df['categories'] == 'Park')\n",
        "  | (df['categories'] == 'Historic Site')\n",
        "  | (df['categories'] == 'Plaza')\n",
        "  | (df['categories'] == 'Church')\n",
        "  | (df['categories'] == 'Canal')\n",
        "  | (df['categories'] == 'Garden'), 'NewCat'] = 'Public Place'   \n",
        "\n",
        "df.loc[(df['categories'] == 'Restaurant') \n",
        "  | (df['categories'] == 'Café')\n",
        "  | (df['categories'].str.contains('Restaurant'))\n",
        "  | (df['categories'] == 'Cheese Shop')\n",
        "  | (df['categories'] == 'Beer Store')\n",
        "  | (df['categories'] == 'Liquor Store')\n",
        "  | (df['categories'] == 'Gourmet Shop')\n",
        "  | (df['categories'] == 'Bagel Shop')\n",
        "  | (df['categories'] == 'Deli / Bodega')\n",
        "  | (df['categories'] == 'Sandwich Place')\n",
        "  | (df['categories'] == 'Ice Cream Shop')\n",
        "  | (df['categories'] == 'Pub')\n",
        "  | (df['categories'] == 'Salad Place')\n",
        "  | (df['categories'] == 'Brewery')\n",
        "  | (df['categories'] == 'Bakery')\n",
        "  | (df['categories'] == 'BBQ Joint')\n",
        "  | (df['categories'] == 'Coffee Shop'),'NewCat'] = 'Food & Drink' \n",
        "   \n",
        "df.loc[(df['categories'] == 'Grocery Store') \n",
        "  | (df['categories'] == 'Market')\n",
        "  | (df['categories'] == 'Fish Market')\n",
        "  | (df['categories'] == 'Farmers Market')\n",
        "  | (df['categories'] == 'Supermarket'),'NewCat'] = 'Market'\n",
        "\n",
        "df.loc[(df['categories'] == 'Garden Center') \n",
        "  | (df['categories'] == 'Smoke Shop')\n",
        "  | (df['categories'] == 'Clothing Store')\n",
        "  | (df['categories'] == 'Bookstore'),'NewCat'] = 'Store'\n",
        "\n",
        "df.loc[(df['categories'] == 'Martial Arts Dojo') \n",
        "  | (df['categories'] == 'Gym')\n",
        "  | (df['categories'] == 'Racetrack')\n",
        "  | (df['categories'] == 'College Gym')\n",
        "  | (df['categories'] == 'Hockey Arena')\n",
        "  | (df['categories'] == 'Harbor / Marina'),'NewCat'] = 'Sports'\n",
        "\n",
        "df.loc[(df['categories'] == 'Performing Arts Venue') \n",
        "  | (df['categories'] == 'Music Venue')\n",
        "  | (df['categories'] == 'Concert Hall'),'NewCat'] = 'Entertainment' \n",
        "\n",
        "df.loc[(df['categories'] == 'Hotel') \n",
        "  | (df['categories'] == 'Spa'),'NewCat'] = 'Hotel & Spa' \n",
        "\n",
        "df.head(2)"
      ],
      "execution_count": 52,
      "outputs": [
        {
          "output_type": "execute_result",
          "data": {
            "text/html": [
              "<div>\n",
              "<style scoped>\n",
              "    .dataframe tbody tr th:only-of-type {\n",
              "        vertical-align: middle;\n",
              "    }\n",
              "\n",
              "    .dataframe tbody tr th {\n",
              "        vertical-align: top;\n",
              "    }\n",
              "\n",
              "    .dataframe thead th {\n",
              "        text-align: right;\n",
              "    }\n",
              "</style>\n",
              "<table border=\"1\" class=\"dataframe\">\n",
              "  <thead>\n",
              "    <tr style=\"text-align: right;\">\n",
              "      <th></th>\n",
              "      <th>name</th>\n",
              "      <th>categories</th>\n",
              "      <th>address</th>\n",
              "      <th>lat</th>\n",
              "      <th>lng</th>\n",
              "      <th>labeledLatLngs</th>\n",
              "      <th>distance</th>\n",
              "      <th>postalCode</th>\n",
              "      <th>cc</th>\n",
              "      <th>city</th>\n",
              "      <th>state</th>\n",
              "      <th>country</th>\n",
              "      <th>formattedAddress</th>\n",
              "      <th>crossStreet</th>\n",
              "      <th>neighborhood</th>\n",
              "      <th>id</th>\n",
              "      <th>Cluster Labels</th>\n",
              "      <th>NewCat</th>\n",
              "    </tr>\n",
              "  </thead>\n",
              "  <tbody>\n",
              "    <tr>\n",
              "      <th>0</th>\n",
              "      <td>Parc du Mont-Royal</td>\n",
              "      <td>Park</td>\n",
              "      <td>1260 Chemin Remembrance</td>\n",
              "      <td>45.504079</td>\n",
              "      <td>-73.587321</td>\n",
              "      <td>[{'label': 'display', 'lat': 45.50407921694641...</td>\n",
              "      <td>1953</td>\n",
              "      <td>H3H 1A2</td>\n",
              "      <td>CA</td>\n",
              "      <td>Montréal</td>\n",
              "      <td>QC</td>\n",
              "      <td>Canada</td>\n",
              "      <td>[1260 Chemin Remembrance, Montréal QC H3H 1A2,...</td>\n",
              "      <td>NaN</td>\n",
              "      <td>NaN</td>\n",
              "      <td>4ad8f749f964a520871621e3</td>\n",
              "      <td>1</td>\n",
              "      <td>Public Place</td>\n",
              "    </tr>\n",
              "    <tr>\n",
              "      <th>1</th>\n",
              "      <td>Parc Westmount Park</td>\n",
              "      <td>Park</td>\n",
              "      <td>Parc Westmount</td>\n",
              "      <td>45.481574</td>\n",
              "      <td>-73.597476</td>\n",
              "      <td>[{'label': 'display', 'lat': 45.48157356036293...</td>\n",
              "      <td>2010</td>\n",
              "      <td>NaN</td>\n",
              "      <td>CA</td>\n",
              "      <td>Westmount</td>\n",
              "      <td>QC</td>\n",
              "      <td>Canada</td>\n",
              "      <td>[Parc Westmount, Westmount QC, Canada]</td>\n",
              "      <td>NaN</td>\n",
              "      <td>NaN</td>\n",
              "      <td>4b1b4905f964a5208bfa23e3</td>\n",
              "      <td>1</td>\n",
              "      <td>Public Place</td>\n",
              "    </tr>\n",
              "  </tbody>\n",
              "</table>\n",
              "</div>"
            ],
            "text/plain": [
              "                  name categories  ... Cluster Labels        NewCat\n",
              "0   Parc du Mont-Royal       Park  ...              1  Public Place\n",
              "1  Parc Westmount Park       Park  ...              1  Public Place\n",
              "\n",
              "[2 rows x 18 columns]"
            ]
          },
          "metadata": {
            "tags": []
          },
          "execution_count": 52
        }
      ]
    },
    {
      "cell_type": "markdown",
      "metadata": {
        "id": "TiMl2z8B-LY5",
        "colab_type": "text"
      },
      "source": [
        "Let's replace the old category column with the new one:"
      ]
    },
    {
      "cell_type": "code",
      "metadata": {
        "id": "Ll2oaL8J-Ele",
        "colab_type": "code",
        "colab": {}
      },
      "source": [
        "# Move the new column as the second one\n",
        "\n",
        "col_name = 'NewCat'\n",
        "second_col = df.pop(col_name)\n",
        "df.insert(1, col_name, second_col)"
      ],
      "execution_count": 0,
      "outputs": []
    },
    {
      "cell_type": "code",
      "metadata": {
        "id": "Hx3YQRS9-veb",
        "colab_type": "code",
        "colab": {}
      },
      "source": [
        "df_1 = df"
      ],
      "execution_count": 0,
      "outputs": []
    },
    {
      "cell_type": "code",
      "metadata": {
        "id": "Kqf28r8W-xyL",
        "colab_type": "code",
        "outputId": "2b3080e0-5289-444a-c1e8-559f6265e7cf",
        "colab": {
          "base_uri": "https://localhost:8080/",
          "height": 233
        }
      },
      "source": [
        "# Remove the old column\n",
        "df_1.drop(['categories'], axis=1, inplace=True)\n",
        "\n",
        "# Rename the new column to replace the old one\n",
        "df_1.rename(columns={'NewCat': 'categories'}, inplace=True)\n",
        "\n",
        "df_1.head(2)"
      ],
      "execution_count": 55,
      "outputs": [
        {
          "output_type": "execute_result",
          "data": {
            "text/html": [
              "<div>\n",
              "<style scoped>\n",
              "    .dataframe tbody tr th:only-of-type {\n",
              "        vertical-align: middle;\n",
              "    }\n",
              "\n",
              "    .dataframe tbody tr th {\n",
              "        vertical-align: top;\n",
              "    }\n",
              "\n",
              "    .dataframe thead th {\n",
              "        text-align: right;\n",
              "    }\n",
              "</style>\n",
              "<table border=\"1\" class=\"dataframe\">\n",
              "  <thead>\n",
              "    <tr style=\"text-align: right;\">\n",
              "      <th></th>\n",
              "      <th>name</th>\n",
              "      <th>categories</th>\n",
              "      <th>address</th>\n",
              "      <th>lat</th>\n",
              "      <th>lng</th>\n",
              "      <th>labeledLatLngs</th>\n",
              "      <th>distance</th>\n",
              "      <th>postalCode</th>\n",
              "      <th>cc</th>\n",
              "      <th>city</th>\n",
              "      <th>state</th>\n",
              "      <th>country</th>\n",
              "      <th>formattedAddress</th>\n",
              "      <th>crossStreet</th>\n",
              "      <th>neighborhood</th>\n",
              "      <th>id</th>\n",
              "      <th>Cluster Labels</th>\n",
              "    </tr>\n",
              "  </thead>\n",
              "  <tbody>\n",
              "    <tr>\n",
              "      <th>0</th>\n",
              "      <td>Parc du Mont-Royal</td>\n",
              "      <td>Public Place</td>\n",
              "      <td>1260 Chemin Remembrance</td>\n",
              "      <td>45.504079</td>\n",
              "      <td>-73.587321</td>\n",
              "      <td>[{'label': 'display', 'lat': 45.50407921694641...</td>\n",
              "      <td>1953</td>\n",
              "      <td>H3H 1A2</td>\n",
              "      <td>CA</td>\n",
              "      <td>Montréal</td>\n",
              "      <td>QC</td>\n",
              "      <td>Canada</td>\n",
              "      <td>[1260 Chemin Remembrance, Montréal QC H3H 1A2,...</td>\n",
              "      <td>NaN</td>\n",
              "      <td>NaN</td>\n",
              "      <td>4ad8f749f964a520871621e3</td>\n",
              "      <td>1</td>\n",
              "    </tr>\n",
              "    <tr>\n",
              "      <th>1</th>\n",
              "      <td>Parc Westmount Park</td>\n",
              "      <td>Public Place</td>\n",
              "      <td>Parc Westmount</td>\n",
              "      <td>45.481574</td>\n",
              "      <td>-73.597476</td>\n",
              "      <td>[{'label': 'display', 'lat': 45.48157356036293...</td>\n",
              "      <td>2010</td>\n",
              "      <td>NaN</td>\n",
              "      <td>CA</td>\n",
              "      <td>Westmount</td>\n",
              "      <td>QC</td>\n",
              "      <td>Canada</td>\n",
              "      <td>[Parc Westmount, Westmount QC, Canada]</td>\n",
              "      <td>NaN</td>\n",
              "      <td>NaN</td>\n",
              "      <td>4b1b4905f964a5208bfa23e3</td>\n",
              "      <td>1</td>\n",
              "    </tr>\n",
              "  </tbody>\n",
              "</table>\n",
              "</div>"
            ],
            "text/plain": [
              "                  name    categories  ...                        id  Cluster Labels\n",
              "0   Parc du Mont-Royal  Public Place  ...  4ad8f749f964a520871621e3               1\n",
              "1  Parc Westmount Park  Public Place  ...  4b1b4905f964a5208bfa23e3               1\n",
              "\n",
              "[2 rows x 17 columns]"
            ]
          },
          "metadata": {
            "tags": []
          },
          "execution_count": 55
        }
      ]
    },
    {
      "cell_type": "code",
      "metadata": {
        "id": "ojhi2uKb_F96",
        "colab_type": "code",
        "outputId": "9fe2dcd7-6b47-4055-ac62-d0345507822b",
        "colab": {
          "base_uri": "https://localhost:8080/",
          "height": 153
        }
      },
      "source": [
        "df_1['categories'].value_counts()"
      ],
      "execution_count": 56,
      "outputs": [
        {
          "output_type": "execute_result",
          "data": {
            "text/plain": [
              "Food & Drink     53\n",
              "Public Place     24\n",
              "Market            6\n",
              "Sports            6\n",
              "Hotel & Spa       4\n",
              "Store             4\n",
              "Entertainment     3\n",
              "Name: categories, dtype: int64"
            ]
          },
          "metadata": {
            "tags": []
          },
          "execution_count": 56
        }
      ]
    },
    {
      "cell_type": "markdown",
      "metadata": {
        "id": "kWS_2FHP_PG2",
        "colab_type": "text"
      },
      "source": [
        "Then cluster the new results:"
      ]
    },
    {
      "cell_type": "code",
      "metadata": {
        "id": "Z3ntXDWd_KiJ",
        "colab_type": "code",
        "colab": {}
      },
      "source": [
        "kclusters = 7\n",
        "montreal_onehot_1 = pd.get_dummies(df_1[['categories']])\n",
        "kmeans = KMeans(n_clusters=kclusters, random_state=1).fit(montreal_onehot_1)\n",
        "montreal_onehot_1.insert(0, 'Cluster Labels', kmeans.labels_)"
      ],
      "execution_count": 0,
      "outputs": []
    },
    {
      "cell_type": "code",
      "metadata": {
        "id": "bxeNaIIK_cvo",
        "colab_type": "code",
        "outputId": "618a151c-0224-4581-8178-dfc16223dcbb",
        "colab": {
          "base_uri": "https://localhost:8080/",
          "height": 128
        }
      },
      "source": [
        "montreal_onehot_1.head(2)"
      ],
      "execution_count": 58,
      "outputs": [
        {
          "output_type": "execute_result",
          "data": {
            "text/html": [
              "<div>\n",
              "<style scoped>\n",
              "    .dataframe tbody tr th:only-of-type {\n",
              "        vertical-align: middle;\n",
              "    }\n",
              "\n",
              "    .dataframe tbody tr th {\n",
              "        vertical-align: top;\n",
              "    }\n",
              "\n",
              "    .dataframe thead th {\n",
              "        text-align: right;\n",
              "    }\n",
              "</style>\n",
              "<table border=\"1\" class=\"dataframe\">\n",
              "  <thead>\n",
              "    <tr style=\"text-align: right;\">\n",
              "      <th></th>\n",
              "      <th>Cluster Labels</th>\n",
              "      <th>categories_Entertainment</th>\n",
              "      <th>categories_Food &amp; Drink</th>\n",
              "      <th>categories_Hotel &amp; Spa</th>\n",
              "      <th>categories_Market</th>\n",
              "      <th>categories_Public Place</th>\n",
              "      <th>categories_Sports</th>\n",
              "      <th>categories_Store</th>\n",
              "    </tr>\n",
              "  </thead>\n",
              "  <tbody>\n",
              "    <tr>\n",
              "      <th>0</th>\n",
              "      <td>2</td>\n",
              "      <td>0</td>\n",
              "      <td>0</td>\n",
              "      <td>0</td>\n",
              "      <td>0</td>\n",
              "      <td>1</td>\n",
              "      <td>0</td>\n",
              "      <td>0</td>\n",
              "    </tr>\n",
              "    <tr>\n",
              "      <th>1</th>\n",
              "      <td>2</td>\n",
              "      <td>0</td>\n",
              "      <td>0</td>\n",
              "      <td>0</td>\n",
              "      <td>0</td>\n",
              "      <td>1</td>\n",
              "      <td>0</td>\n",
              "      <td>0</td>\n",
              "    </tr>\n",
              "  </tbody>\n",
              "</table>\n",
              "</div>"
            ],
            "text/plain": [
              "   Cluster Labels  ...  categories_Store\n",
              "0               2  ...                 0\n",
              "1               2  ...                 0\n",
              "\n",
              "[2 rows x 8 columns]"
            ]
          },
          "metadata": {
            "tags": []
          },
          "execution_count": 58
        }
      ]
    },
    {
      "cell_type": "code",
      "metadata": {
        "id": "eDsLILyj_ftY",
        "colab_type": "code",
        "outputId": "ca710554-9c18-40e1-c1a8-2ac1352a0131",
        "colab": {
          "base_uri": "https://localhost:8080/",
          "height": 153
        }
      },
      "source": [
        "# Add new cluster labels to the dataframe\n",
        "df_1['Cluster Labels'] = montreal_onehot_1['Cluster Labels'] \n",
        "\n",
        "# Figure out the number of places by clusters \n",
        "df_1['Cluster Labels'].value_counts()"
      ],
      "execution_count": 59,
      "outputs": [
        {
          "output_type": "execute_result",
          "data": {
            "text/plain": [
              "1    53\n",
              "2    24\n",
              "4     6\n",
              "3     6\n",
              "5     4\n",
              "0     4\n",
              "6     3\n",
              "Name: Cluster Labels, dtype: int64"
            ]
          },
          "metadata": {
            "tags": []
          },
          "execution_count": 59
        }
      ]
    },
    {
      "cell_type": "markdown",
      "metadata": {
        "id": "tNc1JUsPAjiL",
        "colab_type": "text"
      },
      "source": [
        "The spots were visualized in new clusters as follows:"
      ]
    },
    {
      "cell_type": "code",
      "metadata": {
        "id": "eY5t4JHm_la8",
        "colab_type": "code",
        "outputId": "3d37576c-047a-4840-9857-2d0cd2e8d7a5",
        "colab": {
          "base_uri": "https://localhost:8080/",
          "height": 808
        }
      },
      "source": [
        "map_clusters_1 = folium.Map(location=[latitude, longitude], zoom_start=13)\n",
        "\n",
        "x = np.arange(kclusters)\n",
        "ys = [i + x + (i*x)**2 for i in range(kclusters)]\n",
        "colors_array = cm.rainbow(np.linspace(0, 1, len(ys))) \n",
        "rainbow = [colors.rgb2hex(i) for i in colors_array]\n",
        "\n",
        "markers_colors = []\n",
        "for lat, lon, poi, cluster in zip(df_1['lat'], df_1['lng'], df_1['categories'], df_1['Cluster Labels']):\n",
        "    label = folium.Popup(str(poi) + ' Cluster ' + str(cluster), parse_html=True)\n",
        "    folium.CircleMarker(\n",
        "        [lat, lon],\n",
        "        radius=5,\n",
        "        popup=label,\n",
        "        color=rainbow[cluster-1],\n",
        "        fill=True,\n",
        "        fill_color=rainbow[cluster-1],\n",
        "        fill_opacity=0.7).add_to(map_clusters_1)\n",
        "\n",
        "map_clusters_1"
      ],
      "execution_count": 60,
      "outputs": [
        {
          "output_type": "execute_result",
          "data": {
            "text/html": [
              "<div style=\"width:100%;\"><div style=\"position:relative;width:100%;height:0;padding-bottom:60%;\"><span style=\"color:#565656\">Make this Notebook Trusted to load map: File -> Trust Notebook</span><iframe src=\"about:blank\" style=\"position:absolute;width:100%;height:100%;left:0;top:0;border:none !important;\" data-html=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 onload=\"this.contentDocument.open();this.contentDocument.write(atob(this.getAttribute('data-html')));this.contentDocument.close();\" allowfullscreen webkitallowfullscreen mozallowfullscreen></iframe></div></div>"
            ],
            "text/plain": [
              "<folium.folium.Map at 0x7fd31e5012e8>"
            ]
          },
          "metadata": {
            "tags": []
          },
          "execution_count": 60
        }
      ]
    },
    {
      "cell_type": "markdown",
      "metadata": {
        "id": "p5esCZ--TNqj",
        "colab_type": "text"
      },
      "source": [
        "Most spots are presented as purple markers. Those are included in the Cluster 1, “Food & Drink”. The result of visualization shows that most types of places are restaurant business.\n"
      ]
    },
    {
      "cell_type": "markdown",
      "metadata": {
        "id": "GocShpkHA7Cn",
        "colab_type": "text"
      },
      "source": [
        "To double check if the values of categories are consistent in each cluster, they were investigated by clusters:\n",
        "\n"
      ]
    },
    {
      "cell_type": "code",
      "metadata": {
        "id": "YkVQnR5AAyMC",
        "colab_type": "code",
        "outputId": "8360dc9f-89b2-4080-f696-ad48bad95b58",
        "colab": {
          "base_uri": "https://localhost:8080/",
          "height": 173
        }
      },
      "source": [
        "# Investigate Cluster 0\n",
        "df.loc[df['Cluster Labels'] == 0, df.columns[[1] + [0] + [2]]]"
      ],
      "execution_count": 61,
      "outputs": [
        {
          "output_type": "execute_result",
          "data": {
            "text/html": [
              "<div>\n",
              "<style scoped>\n",
              "    .dataframe tbody tr th:only-of-type {\n",
              "        vertical-align: middle;\n",
              "    }\n",
              "\n",
              "    .dataframe tbody tr th {\n",
              "        vertical-align: top;\n",
              "    }\n",
              "\n",
              "    .dataframe thead th {\n",
              "        text-align: right;\n",
              "    }\n",
              "</style>\n",
              "<table border=\"1\" class=\"dataframe\">\n",
              "  <thead>\n",
              "    <tr style=\"text-align: right;\">\n",
              "      <th></th>\n",
              "      <th>categories</th>\n",
              "      <th>name</th>\n",
              "      <th>address</th>\n",
              "    </tr>\n",
              "  </thead>\n",
              "  <tbody>\n",
              "    <tr>\n",
              "      <th>3</th>\n",
              "      <td>Store</td>\n",
              "      <td>Want Apothecary</td>\n",
              "      <td>4960 Sherbrooke Street, West</td>\n",
              "    </tr>\n",
              "    <tr>\n",
              "      <th>4</th>\n",
              "      <td>Store</td>\n",
              "      <td>Drawn &amp; Quarterly</td>\n",
              "      <td>211 rue Bernard Ouest</td>\n",
              "    </tr>\n",
              "    <tr>\n",
              "      <th>78</th>\n",
              "      <td>Store</td>\n",
              "      <td>Casa del Habano</td>\n",
              "      <td>1434 rue Sherbrooke Ouest</td>\n",
              "    </tr>\n",
              "    <tr>\n",
              "      <th>99</th>\n",
              "      <td>Store</td>\n",
              "      <td>Pépinière Jasmin</td>\n",
              "      <td>6305 Boulevard Henri Bourassa</td>\n",
              "    </tr>\n",
              "  </tbody>\n",
              "</table>\n",
              "</div>"
            ],
            "text/plain": [
              "   categories               name                        address\n",
              "3       Store    Want Apothecary   4960 Sherbrooke Street, West\n",
              "4       Store  Drawn & Quarterly          211 rue Bernard Ouest\n",
              "78      Store    Casa del Habano      1434 rue Sherbrooke Ouest\n",
              "99      Store   Pépinière Jasmin  6305 Boulevard Henri Bourassa"
            ]
          },
          "metadata": {
            "tags": []
          },
          "execution_count": 61
        }
      ]
    },
    {
      "cell_type": "code",
      "metadata": {
        "id": "ZbH5DmTdBuOO",
        "colab_type": "code",
        "outputId": "68470f75-3022-416b-8de5-8929432691d1",
        "colab": {
          "base_uri": "https://localhost:8080/",
          "height": 1000
        }
      },
      "source": [
        "# Investigate Cluster 1\n",
        "df.loc[df['Cluster Labels'] == 1, df.columns[[1] + [0] + [2]]]"
      ],
      "execution_count": 62,
      "outputs": [
        {
          "output_type": "execute_result",
          "data": {
            "text/html": [
              "<div>\n",
              "<style scoped>\n",
              "    .dataframe tbody tr th:only-of-type {\n",
              "        vertical-align: middle;\n",
              "    }\n",
              "\n",
              "    .dataframe tbody tr th {\n",
              "        vertical-align: top;\n",
              "    }\n",
              "\n",
              "    .dataframe thead th {\n",
              "        text-align: right;\n",
              "    }\n",
              "</style>\n",
              "<table border=\"1\" class=\"dataframe\">\n",
              "  <thead>\n",
              "    <tr style=\"text-align: right;\">\n",
              "      <th></th>\n",
              "      <th>categories</th>\n",
              "      <th>name</th>\n",
              "      <th>address</th>\n",
              "    </tr>\n",
              "  </thead>\n",
              "  <tbody>\n",
              "    <tr>\n",
              "      <th>5</th>\n",
              "      <td>Food &amp; Drink</td>\n",
              "      <td>Boulangerie Guillaume</td>\n",
              "      <td>5132 boulevard St-Laurent</td>\n",
              "    </tr>\n",
              "    <tr>\n",
              "      <th>6</th>\n",
              "      <td>Food &amp; Drink</td>\n",
              "      <td>Dispatch Coffee</td>\n",
              "      <td>267 St-Zotique</td>\n",
              "    </tr>\n",
              "    <tr>\n",
              "      <th>13</th>\n",
              "      <td>Food &amp; Drink</td>\n",
              "      <td>Cadet</td>\n",
              "      <td>1431, boul. Saint-Laurent</td>\n",
              "    </tr>\n",
              "    <tr>\n",
              "      <th>17</th>\n",
              "      <td>Food &amp; Drink</td>\n",
              "      <td>Café Olimpico</td>\n",
              "      <td>124 rue Saint-Viateur Ouest</td>\n",
              "    </tr>\n",
              "    <tr>\n",
              "      <th>18</th>\n",
              "      <td>Food &amp; Drink</td>\n",
              "      <td>Boucherie Lawrence</td>\n",
              "      <td>5237 St Laurent</td>\n",
              "    </tr>\n",
              "    <tr>\n",
              "      <th>20</th>\n",
              "      <td>Food &amp; Drink</td>\n",
              "      <td>Damas</td>\n",
              "      <td>1201 Van Horne</td>\n",
              "    </tr>\n",
              "    <tr>\n",
              "      <th>21</th>\n",
              "      <td>Food &amp; Drink</td>\n",
              "      <td>La Tamalera</td>\n",
              "      <td>226, avenue Fairmount Ouest</td>\n",
              "    </tr>\n",
              "    <tr>\n",
              "      <th>22</th>\n",
              "      <td>Food &amp; Drink</td>\n",
              "      <td>La Bête à Pain</td>\n",
              "      <td>195 rue Young</td>\n",
              "    </tr>\n",
              "    <tr>\n",
              "      <th>24</th>\n",
              "      <td>Food &amp; Drink</td>\n",
              "      <td>Larry's</td>\n",
              "      <td>9, avenue Fairmount Est</td>\n",
              "    </tr>\n",
              "    <tr>\n",
              "      <th>26</th>\n",
              "      <td>Food &amp; Drink</td>\n",
              "      <td>Café Parvis</td>\n",
              "      <td>433, rue Mayor</td>\n",
              "    </tr>\n",
              "    <tr>\n",
              "      <th>30</th>\n",
              "      <td>Food &amp; Drink</td>\n",
              "      <td>St-Viateur Bagel (La Maison du Bagel)</td>\n",
              "      <td>263 rue Saint-Viateur Ouest</td>\n",
              "    </tr>\n",
              "    <tr>\n",
              "      <th>32</th>\n",
              "      <td>Food &amp; Drink</td>\n",
              "      <td>Caffè Italia</td>\n",
              "      <td>6840 boul. Saint-Laurent</td>\n",
              "    </tr>\n",
              "    <tr>\n",
              "      <th>33</th>\n",
              "      <td>Food &amp; Drink</td>\n",
              "      <td>Café Nocturne</td>\n",
              "      <td>19, rue Prince-Arthur Ouest</td>\n",
              "    </tr>\n",
              "    <tr>\n",
              "      <th>36</th>\n",
              "      <td>Food &amp; Drink</td>\n",
              "      <td>Pikolo Espresso Bar</td>\n",
              "      <td>3418B, av. du Parc</td>\n",
              "    </tr>\n",
              "    <tr>\n",
              "      <th>37</th>\n",
              "      <td>Food &amp; Drink</td>\n",
              "      <td>Microbrasserie 4 Origines</td>\n",
              "      <td>1304 St-Patrick</td>\n",
              "    </tr>\n",
              "    <tr>\n",
              "      <th>38</th>\n",
              "      <td>Food &amp; Drink</td>\n",
              "      <td>Café Saint-Henri</td>\n",
              "      <td>260 Place du Marché nord</td>\n",
              "    </tr>\n",
              "    <tr>\n",
              "      <th>40</th>\n",
              "      <td>Food &amp; Drink</td>\n",
              "      <td>Kem CoBa</td>\n",
              "      <td>60 Fairmount Ouest</td>\n",
              "    </tr>\n",
              "    <tr>\n",
              "      <th>41</th>\n",
              "      <td>Food &amp; Drink</td>\n",
              "      <td>Bouillon Bilk</td>\n",
              "      <td>1595, boul. Saint-Laurent</td>\n",
              "    </tr>\n",
              "    <tr>\n",
              "      <th>42</th>\n",
              "      <td>Food &amp; Drink</td>\n",
              "      <td>Trip de Bouffe</td>\n",
              "      <td>277 Avenue Mont-Royal Est</td>\n",
              "    </tr>\n",
              "    <tr>\n",
              "      <th>43</th>\n",
              "      <td>Food &amp; Drink</td>\n",
              "      <td>Le Cartet Resto Boutique</td>\n",
              "      <td>106 rue McGill</td>\n",
              "    </tr>\n",
              "    <tr>\n",
              "      <th>44</th>\n",
              "      <td>Food &amp; Drink</td>\n",
              "      <td>Fromagerie Copette et cie</td>\n",
              "      <td>4650 rue Wellington</td>\n",
              "    </tr>\n",
              "    <tr>\n",
              "      <th>46</th>\n",
              "      <td>Food &amp; Drink</td>\n",
              "      <td>Le Café Bloom</td>\n",
              "      <td>1940, rue du Centre</td>\n",
              "    </tr>\n",
              "    <tr>\n",
              "      <th>48</th>\n",
              "      <td>Food &amp; Drink</td>\n",
              "      <td>Rôtisserie Romados</td>\n",
              "      <td>115 Rue Rachel Est</td>\n",
              "    </tr>\n",
              "    <tr>\n",
              "      <th>51</th>\n",
              "      <td>Food &amp; Drink</td>\n",
              "      <td>Café Vito</td>\n",
              "      <td>151 Villeray</td>\n",
              "    </tr>\n",
              "    <tr>\n",
              "      <th>52</th>\n",
              "      <td>Food &amp; Drink</td>\n",
              "      <td>Le Majestique</td>\n",
              "      <td>4105, boulevard Saint-Laurent</td>\n",
              "    </tr>\n",
              "    <tr>\n",
              "      <th>53</th>\n",
              "      <td>Food &amp; Drink</td>\n",
              "      <td>Café dei Campi</td>\n",
              "      <td>1360 Rosemont</td>\n",
              "    </tr>\n",
              "    <tr>\n",
              "      <th>54</th>\n",
              "      <td>Food &amp; Drink</td>\n",
              "      <td>Satay Brothers</td>\n",
              "      <td>3721, rue Notre Dame Ouest</td>\n",
              "    </tr>\n",
              "    <tr>\n",
              "      <th>55</th>\n",
              "      <td>Food &amp; Drink</td>\n",
              "      <td>Café Pista</td>\n",
              "      <td>500 Beaubien E</td>\n",
              "    </tr>\n",
              "    <tr>\n",
              "      <th>56</th>\n",
              "      <td>Food &amp; Drink</td>\n",
              "      <td>Dinette Triple Crown</td>\n",
              "      <td>6704 rue Clark</td>\n",
              "    </tr>\n",
              "    <tr>\n",
              "      <th>59</th>\n",
              "      <td>Food &amp; Drink</td>\n",
              "      <td>SAQ Sélection</td>\n",
              "      <td>155 Av Atwater</td>\n",
              "    </tr>\n",
              "    <tr>\n",
              "      <th>60</th>\n",
              "      <td>Food &amp; Drink</td>\n",
              "      <td>Falafel St-Jacques</td>\n",
              "      <td>345 Rue St-Jacques</td>\n",
              "    </tr>\n",
              "    <tr>\n",
              "      <th>61</th>\n",
              "      <td>Food &amp; Drink</td>\n",
              "      <td>Caffè in Gamba</td>\n",
              "      <td>5263 ave. Du Parc</td>\n",
              "    </tr>\n",
              "    <tr>\n",
              "      <th>63</th>\n",
              "      <td>Food &amp; Drink</td>\n",
              "      <td>Myriade Espresso Bar</td>\n",
              "      <td>4627 Saint-Denis Street</td>\n",
              "    </tr>\n",
              "    <tr>\n",
              "      <th>64</th>\n",
              "      <td>Food &amp; Drink</td>\n",
              "      <td>Au Pied de Cochon</td>\n",
              "      <td>536 Ave. Duluth Est.</td>\n",
              "    </tr>\n",
              "    <tr>\n",
              "      <th>66</th>\n",
              "      <td>Food &amp; Drink</td>\n",
              "      <td>Automne Boulangerie</td>\n",
              "      <td>6500 avenue Christophe-Colomb</td>\n",
              "    </tr>\n",
              "    <tr>\n",
              "      <th>67</th>\n",
              "      <td>Food &amp; Drink</td>\n",
              "      <td>Olive et Gourmando</td>\n",
              "      <td>351, rue Saint-Paul Ouest</td>\n",
              "    </tr>\n",
              "    <tr>\n",
              "      <th>68</th>\n",
              "      <td>Food &amp; Drink</td>\n",
              "      <td>Paquebot</td>\n",
              "      <td>2110 Bélanger</td>\n",
              "    </tr>\n",
              "    <tr>\n",
              "      <th>69</th>\n",
              "      <td>Food &amp; Drink</td>\n",
              "      <td>Fairmount Bagel</td>\n",
              "      <td>74 Fairmount O</td>\n",
              "    </tr>\n",
              "    <tr>\n",
              "      <th>70</th>\n",
              "      <td>Food &amp; Drink</td>\n",
              "      <td>Pub BreWskey</td>\n",
              "      <td>380, rue Saint-Paul Est</td>\n",
              "    </tr>\n",
              "    <tr>\n",
              "      <th>71</th>\n",
              "      <td>Food &amp; Drink</td>\n",
              "      <td>MaBrasserie</td>\n",
              "      <td>2300, rue Holt</td>\n",
              "    </tr>\n",
              "    <tr>\n",
              "      <th>72</th>\n",
              "      <td>Food &amp; Drink</td>\n",
              "      <td>Ma Poule Mouillée</td>\n",
              "      <td>969 rue Rachel E</td>\n",
              "    </tr>\n",
              "    <tr>\n",
              "      <th>74</th>\n",
              "      <td>Food &amp; Drink</td>\n",
              "      <td>FOU D'ICI</td>\n",
              "      <td>360 boul. De Maisonneuve Ouest</td>\n",
              "    </tr>\n",
              "    <tr>\n",
              "      <th>75</th>\n",
              "      <td>Food &amp; Drink</td>\n",
              "      <td>Hof Kelsten</td>\n",
              "      <td>4524, boul. Saint-Laurent</td>\n",
              "    </tr>\n",
              "    <tr>\n",
              "      <th>76</th>\n",
              "      <td>Food &amp; Drink</td>\n",
              "      <td>Dépanneur Peluso</td>\n",
              "      <td>1900 Rachel</td>\n",
              "    </tr>\n",
              "    <tr>\n",
              "      <th>79</th>\n",
              "      <td>Food &amp; Drink</td>\n",
              "      <td>La Boutique Arhoma</td>\n",
              "      <td>15 Place Valois</td>\n",
              "    </tr>\n",
              "    <tr>\n",
              "      <th>82</th>\n",
              "      <td>Food &amp; Drink</td>\n",
              "      <td>SAQ Sélection</td>\n",
              "      <td>900 Rue Beaubien E</td>\n",
              "    </tr>\n",
              "    <tr>\n",
              "      <th>84</th>\n",
              "      <td>Food &amp; Drink</td>\n",
              "      <td>MELK Bar à Café</td>\n",
              "      <td>1206, rue Stanley</td>\n",
              "    </tr>\n",
              "    <tr>\n",
              "      <th>86</th>\n",
              "      <td>Food &amp; Drink</td>\n",
              "      <td>Bagel St-Lo</td>\n",
              "      <td>5411 rue de Verdun</td>\n",
              "    </tr>\n",
              "    <tr>\n",
              "      <th>88</th>\n",
              "      <td>Food &amp; Drink</td>\n",
              "      <td>Mandy's</td>\n",
              "      <td>423, rue Saint-Nicolas</td>\n",
              "    </tr>\n",
              "    <tr>\n",
              "      <th>91</th>\n",
              "      <td>Food &amp; Drink</td>\n",
              "      <td>Wing Phat</td>\n",
              "      <td>4201 Jarry E</td>\n",
              "    </tr>\n",
              "    <tr>\n",
              "      <th>94</th>\n",
              "      <td>Food &amp; Drink</td>\n",
              "      <td>Chez José</td>\n",
              "      <td>173 Duluth Est</td>\n",
              "    </tr>\n",
              "    <tr>\n",
              "      <th>96</th>\n",
              "      <td>Food &amp; Drink</td>\n",
              "      <td>Café Replika</td>\n",
              "      <td>252, rue Rachel Est</td>\n",
              "    </tr>\n",
              "    <tr>\n",
              "      <th>98</th>\n",
              "      <td>Food &amp; Drink</td>\n",
              "      <td>Le Mousso</td>\n",
              "      <td>1023, rue Ontario Est</td>\n",
              "    </tr>\n",
              "  </tbody>\n",
              "</table>\n",
              "</div>"
            ],
            "text/plain": [
              "      categories  ...                         address\n",
              "5   Food & Drink  ...       5132 boulevard St-Laurent\n",
              "6   Food & Drink  ...                  267 St-Zotique\n",
              "13  Food & Drink  ...       1431, boul. Saint-Laurent\n",
              "17  Food & Drink  ...     124 rue Saint-Viateur Ouest\n",
              "18  Food & Drink  ...                 5237 St Laurent\n",
              "20  Food & Drink  ...                  1201 Van Horne\n",
              "21  Food & Drink  ...     226, avenue Fairmount Ouest\n",
              "22  Food & Drink  ...                   195 rue Young\n",
              "24  Food & Drink  ...         9, avenue Fairmount Est\n",
              "26  Food & Drink  ...                  433, rue Mayor\n",
              "30  Food & Drink  ...     263 rue Saint-Viateur Ouest\n",
              "32  Food & Drink  ...        6840 boul. Saint-Laurent\n",
              "33  Food & Drink  ...     19, rue Prince-Arthur Ouest\n",
              "36  Food & Drink  ...              3418B, av. du Parc\n",
              "37  Food & Drink  ...                 1304 St-Patrick\n",
              "38  Food & Drink  ...        260 Place du Marché nord\n",
              "40  Food & Drink  ...              60 Fairmount Ouest\n",
              "41  Food & Drink  ...       1595, boul. Saint-Laurent\n",
              "42  Food & Drink  ...       277 Avenue Mont-Royal Est\n",
              "43  Food & Drink  ...                  106 rue McGill\n",
              "44  Food & Drink  ...             4650 rue Wellington\n",
              "46  Food & Drink  ...             1940, rue du Centre\n",
              "48  Food & Drink  ...              115 Rue Rachel Est\n",
              "51  Food & Drink  ...                    151 Villeray\n",
              "52  Food & Drink  ...   4105, boulevard Saint-Laurent\n",
              "53  Food & Drink  ...                   1360 Rosemont\n",
              "54  Food & Drink  ...      3721, rue Notre Dame Ouest\n",
              "55  Food & Drink  ...                  500 Beaubien E\n",
              "56  Food & Drink  ...                  6704 rue Clark\n",
              "59  Food & Drink  ...                  155 Av Atwater\n",
              "60  Food & Drink  ...              345 Rue St-Jacques\n",
              "61  Food & Drink  ...               5263 ave. Du Parc\n",
              "63  Food & Drink  ...         4627 Saint-Denis Street\n",
              "64  Food & Drink  ...            536 Ave. Duluth Est.\n",
              "66  Food & Drink  ...   6500 avenue Christophe-Colomb\n",
              "67  Food & Drink  ...       351, rue Saint-Paul Ouest\n",
              "68  Food & Drink  ...                   2110 Bélanger\n",
              "69  Food & Drink  ...                  74 Fairmount O\n",
              "70  Food & Drink  ...         380, rue Saint-Paul Est\n",
              "71  Food & Drink  ...                  2300, rue Holt\n",
              "72  Food & Drink  ...                969 rue Rachel E\n",
              "74  Food & Drink  ...  360 boul. De Maisonneuve Ouest\n",
              "75  Food & Drink  ...       4524, boul. Saint-Laurent\n",
              "76  Food & Drink  ...                     1900 Rachel\n",
              "79  Food & Drink  ...                 15 Place Valois\n",
              "82  Food & Drink  ...              900 Rue Beaubien E\n",
              "84  Food & Drink  ...               1206, rue Stanley\n",
              "86  Food & Drink  ...              5411 rue de Verdun\n",
              "88  Food & Drink  ...          423, rue Saint-Nicolas\n",
              "91  Food & Drink  ...                    4201 Jarry E\n",
              "94  Food & Drink  ...                  173 Duluth Est\n",
              "96  Food & Drink  ...             252, rue Rachel Est\n",
              "98  Food & Drink  ...           1023, rue Ontario Est\n",
              "\n",
              "[53 rows x 3 columns]"
            ]
          },
          "metadata": {
            "tags": []
          },
          "execution_count": 62
        }
      ]
    },
    {
      "cell_type": "code",
      "metadata": {
        "id": "vniI4c5oB1eo",
        "colab_type": "code",
        "outputId": "72412f80-a479-4d8a-e4af-a9c67cf461c5",
        "colab": {
          "base_uri": "https://localhost:8080/",
          "height": 793
        }
      },
      "source": [
        "# Investigate Cluster 2\n",
        "df.loc[df['Cluster Labels'] == 2, df.columns[[1] + [0] + [2]]]"
      ],
      "execution_count": 63,
      "outputs": [
        {
          "output_type": "execute_result",
          "data": {
            "text/html": [
              "<div>\n",
              "<style scoped>\n",
              "    .dataframe tbody tr th:only-of-type {\n",
              "        vertical-align: middle;\n",
              "    }\n",
              "\n",
              "    .dataframe tbody tr th {\n",
              "        vertical-align: top;\n",
              "    }\n",
              "\n",
              "    .dataframe thead th {\n",
              "        text-align: right;\n",
              "    }\n",
              "</style>\n",
              "<table border=\"1\" class=\"dataframe\">\n",
              "  <thead>\n",
              "    <tr style=\"text-align: right;\">\n",
              "      <th></th>\n",
              "      <th>categories</th>\n",
              "      <th>name</th>\n",
              "      <th>address</th>\n",
              "    </tr>\n",
              "  </thead>\n",
              "  <tbody>\n",
              "    <tr>\n",
              "      <th>0</th>\n",
              "      <td>Public Place</td>\n",
              "      <td>Parc du Mont-Royal</td>\n",
              "      <td>1260 Chemin Remembrance</td>\n",
              "    </tr>\n",
              "    <tr>\n",
              "      <th>1</th>\n",
              "      <td>Public Place</td>\n",
              "      <td>Parc Westmount Park</td>\n",
              "      <td>Parc Westmount</td>\n",
              "    </tr>\n",
              "    <tr>\n",
              "      <th>2</th>\n",
              "      <td>Public Place</td>\n",
              "      <td>Chalet du Mont-Royal</td>\n",
              "      <td>1196 voie Camillien-Houde</td>\n",
              "    </tr>\n",
              "    <tr>\n",
              "      <th>8</th>\n",
              "      <td>Public Place</td>\n",
              "      <td>Parc La Fontaine</td>\n",
              "      <td>3933 rue du Parc-Lafontaine</td>\n",
              "    </tr>\n",
              "    <tr>\n",
              "      <th>11</th>\n",
              "      <td>Public Place</td>\n",
              "      <td>Vieux-Port de Montréal / Old Port of Montreal ...</td>\n",
              "      <td>Vieux-Port de Montréal</td>\n",
              "    </tr>\n",
              "    <tr>\n",
              "      <th>14</th>\n",
              "      <td>Public Place</td>\n",
              "      <td>Place des Festivals</td>\n",
              "      <td>Quartier des Spectacles</td>\n",
              "    </tr>\n",
              "    <tr>\n",
              "      <th>15</th>\n",
              "      <td>Public Place</td>\n",
              "      <td>Canal-de-Lachine</td>\n",
              "      <td>Lachine canal / Canal de Lachine</td>\n",
              "    </tr>\n",
              "    <tr>\n",
              "      <th>16</th>\n",
              "      <td>Public Place</td>\n",
              "      <td>Parc Sir-Wilfrid-Laurier</td>\n",
              "      <td>Parc Sir-Wilfrid-Laurier</td>\n",
              "    </tr>\n",
              "    <tr>\n",
              "      <th>25</th>\n",
              "      <td>Public Place</td>\n",
              "      <td>Basilique Notre-Dame (Basilique Notre-Dame de ...</td>\n",
              "      <td>110, rue Notre-Dame Ouest</td>\n",
              "    </tr>\n",
              "    <tr>\n",
              "      <th>28</th>\n",
              "      <td>Public Place</td>\n",
              "      <td>Parc Jeanne-Mance</td>\n",
              "      <td>Parc Jeanne-Mance</td>\n",
              "    </tr>\n",
              "    <tr>\n",
              "      <th>31</th>\n",
              "      <td>Public Place</td>\n",
              "      <td>Parc Jarry</td>\n",
              "      <td>Parc Jarry</td>\n",
              "    </tr>\n",
              "    <tr>\n",
              "      <th>35</th>\n",
              "      <td>Public Place</td>\n",
              "      <td>Cathédrale Marie-Reine-du-Monde</td>\n",
              "      <td>1085 rue de la Cathédrale</td>\n",
              "    </tr>\n",
              "    <tr>\n",
              "      <th>47</th>\n",
              "      <td>Public Place</td>\n",
              "      <td>Parc du Canal Lachine</td>\n",
              "      <td>Under the tree, by the Canal</td>\n",
              "    </tr>\n",
              "    <tr>\n",
              "      <th>49</th>\n",
              "      <td>Public Place</td>\n",
              "      <td>Place Jacques Cartier</td>\n",
              "      <td>Place Jacques Cartier</td>\n",
              "    </tr>\n",
              "    <tr>\n",
              "      <th>50</th>\n",
              "      <td>Public Place</td>\n",
              "      <td>Parc Jean-Drapeau</td>\n",
              "      <td>1, circuit Gilles-Villeneuve</td>\n",
              "    </tr>\n",
              "    <tr>\n",
              "      <th>62</th>\n",
              "      <td>Public Place</td>\n",
              "      <td>Esplanade du Centenaire, Canal Lachine</td>\n",
              "      <td>Les quais du Canal Lachine</td>\n",
              "    </tr>\n",
              "    <tr>\n",
              "      <th>73</th>\n",
              "      <td>Public Place</td>\n",
              "      <td>Parc Maisonneuve</td>\n",
              "      <td>4581, rue Sherbrooke Est</td>\n",
              "    </tr>\n",
              "    <tr>\n",
              "      <th>80</th>\n",
              "      <td>Public Place</td>\n",
              "      <td>Jardin Botanique de Montréal / Montreal Botani...</td>\n",
              "      <td>4101 rue Sherbrooke E</td>\n",
              "    </tr>\n",
              "    <tr>\n",
              "      <th>83</th>\n",
              "      <td>Public Place</td>\n",
              "      <td>Parc Outremont</td>\n",
              "      <td>NaN</td>\n",
              "    </tr>\n",
              "    <tr>\n",
              "      <th>85</th>\n",
              "      <td>Public Place</td>\n",
              "      <td>Square Saint-Louis</td>\n",
              "      <td>rue Du-Square-Saint-Louis</td>\n",
              "    </tr>\n",
              "    <tr>\n",
              "      <th>87</th>\n",
              "      <td>Public Place</td>\n",
              "      <td>Parc Lafond</td>\n",
              "      <td>3536 Ave. Laurier Est</td>\n",
              "    </tr>\n",
              "    <tr>\n",
              "      <th>92</th>\n",
              "      <td>Public Place</td>\n",
              "      <td>Parc-nature de l'Île-de-la-Visitation</td>\n",
              "      <td>2425, boul. Gouin Est</td>\n",
              "    </tr>\n",
              "    <tr>\n",
              "      <th>95</th>\n",
              "      <td>Public Place</td>\n",
              "      <td>Parc Angrignon</td>\n",
              "      <td>‪3400 des Trinitaires Blvd‬</td>\n",
              "    </tr>\n",
              "    <tr>\n",
              "      <th>97</th>\n",
              "      <td>Public Place</td>\n",
              "      <td>Parc René-Lévesque</td>\n",
              "      <td>1, chemin du Musée</td>\n",
              "    </tr>\n",
              "  </tbody>\n",
              "</table>\n",
              "</div>"
            ],
            "text/plain": [
              "      categories  ...                           address\n",
              "0   Public Place  ...           1260 Chemin Remembrance\n",
              "1   Public Place  ...                    Parc Westmount\n",
              "2   Public Place  ...         1196 voie Camillien-Houde\n",
              "8   Public Place  ...       3933 rue du Parc-Lafontaine\n",
              "11  Public Place  ...            Vieux-Port de Montréal\n",
              "14  Public Place  ...           Quartier des Spectacles\n",
              "15  Public Place  ...  Lachine canal / Canal de Lachine\n",
              "16  Public Place  ...          Parc Sir-Wilfrid-Laurier\n",
              "25  Public Place  ...         110, rue Notre-Dame Ouest\n",
              "28  Public Place  ...                 Parc Jeanne-Mance\n",
              "31  Public Place  ...                        Parc Jarry\n",
              "35  Public Place  ...         1085 rue de la Cathédrale\n",
              "47  Public Place  ...      Under the tree, by the Canal\n",
              "49  Public Place  ...             Place Jacques Cartier\n",
              "50  Public Place  ...      1, circuit Gilles-Villeneuve\n",
              "62  Public Place  ...        Les quais du Canal Lachine\n",
              "73  Public Place  ...          4581, rue Sherbrooke Est\n",
              "80  Public Place  ...             4101 rue Sherbrooke E\n",
              "83  Public Place  ...                               NaN\n",
              "85  Public Place  ...         rue Du-Square-Saint-Louis\n",
              "87  Public Place  ...             3536 Ave. Laurier Est\n",
              "92  Public Place  ...             2425, boul. Gouin Est\n",
              "95  Public Place  ...       ‪3400 des Trinitaires Blvd‬\n",
              "97  Public Place  ...                1, chemin du Musée\n",
              "\n",
              "[24 rows x 3 columns]"
            ]
          },
          "metadata": {
            "tags": []
          },
          "execution_count": 63
        }
      ]
    },
    {
      "cell_type": "code",
      "metadata": {
        "id": "scLNzVYMB4wo",
        "colab_type": "code",
        "outputId": "d359f70c-ac5b-47b7-e059-da08118fd3cd",
        "colab": {
          "base_uri": "https://localhost:8080/",
          "height": 235
        }
      },
      "source": [
        "# Investigate Cluster 3\n",
        "df.loc[df['Cluster Labels'] == 3, df.columns[[1] + [0] + [2]]]"
      ],
      "execution_count": 64,
      "outputs": [
        {
          "output_type": "execute_result",
          "data": {
            "text/html": [
              "<div>\n",
              "<style scoped>\n",
              "    .dataframe tbody tr th:only-of-type {\n",
              "        vertical-align: middle;\n",
              "    }\n",
              "\n",
              "    .dataframe tbody tr th {\n",
              "        vertical-align: top;\n",
              "    }\n",
              "\n",
              "    .dataframe thead th {\n",
              "        text-align: right;\n",
              "    }\n",
              "</style>\n",
              "<table border=\"1\" class=\"dataframe\">\n",
              "  <thead>\n",
              "    <tr style=\"text-align: right;\">\n",
              "      <th></th>\n",
              "      <th>categories</th>\n",
              "      <th>name</th>\n",
              "      <th>address</th>\n",
              "    </tr>\n",
              "  </thead>\n",
              "  <tbody>\n",
              "    <tr>\n",
              "      <th>27</th>\n",
              "      <td>Sports</td>\n",
              "      <td>CEPSUM</td>\n",
              "      <td>2100 boul. Édouard-Montpetit</td>\n",
              "    </tr>\n",
              "    <tr>\n",
              "      <th>57</th>\n",
              "      <td>Sports</td>\n",
              "      <td>Quai de l'Horloge / Clock Tower quay</td>\n",
              "      <td>Rue Quai de l'Horloge</td>\n",
              "    </tr>\n",
              "    <tr>\n",
              "      <th>58</th>\n",
              "      <td>Sports</td>\n",
              "      <td>Centre Bell</td>\n",
              "      <td>1909 Ave. des Canadiens-de-Montréal</td>\n",
              "    </tr>\n",
              "    <tr>\n",
              "      <th>77</th>\n",
              "      <td>Sports</td>\n",
              "      <td>Circuit Gilles-Villeneuve</td>\n",
              "      <td>1, circuit Gilles-Villeneuve</td>\n",
              "    </tr>\n",
              "    <tr>\n",
              "      <th>81</th>\n",
              "      <td>Sports</td>\n",
              "      <td>Midtown Le Sporting Club Sanctuaire</td>\n",
              "      <td>6105 avenue du Boisé</td>\n",
              "    </tr>\n",
              "    <tr>\n",
              "      <th>93</th>\n",
              "      <td>Sports</td>\n",
              "      <td>Académie Arts Martiaux Brossard</td>\n",
              "      <td>1505, boulevard Provencher</td>\n",
              "    </tr>\n",
              "  </tbody>\n",
              "</table>\n",
              "</div>"
            ],
            "text/plain": [
              "   categories  ...                              address\n",
              "27     Sports  ...         2100 boul. Édouard-Montpetit\n",
              "57     Sports  ...                Rue Quai de l'Horloge\n",
              "58     Sports  ...  1909 Ave. des Canadiens-de-Montréal\n",
              "77     Sports  ...         1, circuit Gilles-Villeneuve\n",
              "81     Sports  ...                 6105 avenue du Boisé\n",
              "93     Sports  ...           1505, boulevard Provencher\n",
              "\n",
              "[6 rows x 3 columns]"
            ]
          },
          "metadata": {
            "tags": []
          },
          "execution_count": 64
        }
      ]
    },
    {
      "cell_type": "code",
      "metadata": {
        "id": "WnnrNaU1B6D_",
        "colab_type": "code",
        "outputId": "23220d6e-8855-4ecf-af96-c661ab91f777",
        "colab": {
          "base_uri": "https://localhost:8080/",
          "height": 235
        }
      },
      "source": [
        "# Investigate Cluster 4\n",
        "df.loc[df['Cluster Labels'] == 4, df.columns[[1] + [0] + [2]]]"
      ],
      "execution_count": 65,
      "outputs": [
        {
          "output_type": "execute_result",
          "data": {
            "text/html": [
              "<div>\n",
              "<style scoped>\n",
              "    .dataframe tbody tr th:only-of-type {\n",
              "        vertical-align: middle;\n",
              "    }\n",
              "\n",
              "    .dataframe tbody tr th {\n",
              "        vertical-align: top;\n",
              "    }\n",
              "\n",
              "    .dataframe thead th {\n",
              "        text-align: right;\n",
              "    }\n",
              "</style>\n",
              "<table border=\"1\" class=\"dataframe\">\n",
              "  <thead>\n",
              "    <tr style=\"text-align: right;\">\n",
              "      <th></th>\n",
              "      <th>categories</th>\n",
              "      <th>name</th>\n",
              "      <th>address</th>\n",
              "    </tr>\n",
              "  </thead>\n",
              "  <tbody>\n",
              "    <tr>\n",
              "      <th>7</th>\n",
              "      <td>Market</td>\n",
              "      <td>Milano Fruiterie</td>\n",
              "      <td>6862 boul. Saint-Laurent</td>\n",
              "    </tr>\n",
              "    <tr>\n",
              "      <th>9</th>\n",
              "      <td>Market</td>\n",
              "      <td>Marché Atwater</td>\n",
              "      <td>138 ave. Atwater</td>\n",
              "    </tr>\n",
              "    <tr>\n",
              "      <th>10</th>\n",
              "      <td>Market</td>\n",
              "      <td>Marché Jean-Talon</td>\n",
              "      <td>7070 avenue Henri-Julien</td>\n",
              "    </tr>\n",
              "    <tr>\n",
              "      <th>34</th>\n",
              "      <td>Market</td>\n",
              "      <td>Adonis</td>\n",
              "      <td>225 rue Peel</td>\n",
              "    </tr>\n",
              "    <tr>\n",
              "      <th>65</th>\n",
              "      <td>Market</td>\n",
              "      <td>PA Nature</td>\n",
              "      <td>5029 Ave du Parc</td>\n",
              "    </tr>\n",
              "    <tr>\n",
              "      <th>89</th>\n",
              "      <td>Market</td>\n",
              "      <td>Odessa l'Entrepôt</td>\n",
              "      <td>100-4900 rue Molson</td>\n",
              "    </tr>\n",
              "  </tbody>\n",
              "</table>\n",
              "</div>"
            ],
            "text/plain": [
              "   categories               name                   address\n",
              "7      Market   Milano Fruiterie  6862 boul. Saint-Laurent\n",
              "9      Market     Marché Atwater          138 ave. Atwater\n",
              "10     Market  Marché Jean-Talon  7070 avenue Henri-Julien\n",
              "34     Market             Adonis              225 rue Peel\n",
              "65     Market          PA Nature          5029 Ave du Parc\n",
              "89     Market  Odessa l'Entrepôt       100-4900 rue Molson"
            ]
          },
          "metadata": {
            "tags": []
          },
          "execution_count": 65
        }
      ]
    },
    {
      "cell_type": "code",
      "metadata": {
        "id": "G2NBkbHGB7sP",
        "colab_type": "code",
        "outputId": "bc558a71-039d-4593-8e3d-a93e4588ca7e",
        "colab": {
          "base_uri": "https://localhost:8080/",
          "height": 173
        }
      },
      "source": [
        "# Investigate Cluster 5\n",
        "df.loc[df['Cluster Labels'] == 5, df.columns[[1] + [0] + [2]]]"
      ],
      "execution_count": 66,
      "outputs": [
        {
          "output_type": "execute_result",
          "data": {
            "text/html": [
              "<div>\n",
              "<style scoped>\n",
              "    .dataframe tbody tr th:only-of-type {\n",
              "        vertical-align: middle;\n",
              "    }\n",
              "\n",
              "    .dataframe tbody tr th {\n",
              "        vertical-align: top;\n",
              "    }\n",
              "\n",
              "    .dataframe thead th {\n",
              "        text-align: right;\n",
              "    }\n",
              "</style>\n",
              "<table border=\"1\" class=\"dataframe\">\n",
              "  <thead>\n",
              "    <tr style=\"text-align: right;\">\n",
              "      <th></th>\n",
              "      <th>categories</th>\n",
              "      <th>name</th>\n",
              "      <th>address</th>\n",
              "    </tr>\n",
              "  </thead>\n",
              "  <tbody>\n",
              "    <tr>\n",
              "      <th>29</th>\n",
              "      <td>Hotel &amp; Spa</td>\n",
              "      <td>Scandinave Les Bains Vieux-Montréal</td>\n",
              "      <td>71, rue de la Commune Ouest</td>\n",
              "    </tr>\n",
              "    <tr>\n",
              "      <th>39</th>\n",
              "      <td>Hotel &amp; Spa</td>\n",
              "      <td>Hôtel Le Germain Montréal - NOW OPEN</td>\n",
              "      <td>2050, Rue Mansfield</td>\n",
              "    </tr>\n",
              "    <tr>\n",
              "      <th>45</th>\n",
              "      <td>Hotel &amp; Spa</td>\n",
              "      <td>Bota Bota, spa-sur-l'eau</td>\n",
              "      <td>358 rue de la Commune O.</td>\n",
              "    </tr>\n",
              "    <tr>\n",
              "      <th>90</th>\n",
              "      <td>Hotel &amp; Spa</td>\n",
              "      <td>Strøm Spa Nordique</td>\n",
              "      <td>1001, boul. de la Forêt</td>\n",
              "    </tr>\n",
              "  </tbody>\n",
              "</table>\n",
              "</div>"
            ],
            "text/plain": [
              "     categories  ...                      address\n",
              "29  Hotel & Spa  ...  71, rue de la Commune Ouest\n",
              "39  Hotel & Spa  ...          2050, Rue Mansfield\n",
              "45  Hotel & Spa  ...     358 rue de la Commune O.\n",
              "90  Hotel & Spa  ...      1001, boul. de la Forêt\n",
              "\n",
              "[4 rows x 3 columns]"
            ]
          },
          "metadata": {
            "tags": []
          },
          "execution_count": 66
        }
      ]
    },
    {
      "cell_type": "code",
      "metadata": {
        "id": "v96-eYSCB8_A",
        "colab_type": "code",
        "outputId": "7a0a9bce-4586-4921-9c28-9a9aba87cdda",
        "colab": {
          "base_uri": "https://localhost:8080/",
          "height": 142
        }
      },
      "source": [
        "# Investigate Cluster 6\n",
        "df.loc[df['Cluster Labels'] == 6, df.columns[[1] + [0] + [2]]]"
      ],
      "execution_count": 67,
      "outputs": [
        {
          "output_type": "execute_result",
          "data": {
            "text/html": [
              "<div>\n",
              "<style scoped>\n",
              "    .dataframe tbody tr th:only-of-type {\n",
              "        vertical-align: middle;\n",
              "    }\n",
              "\n",
              "    .dataframe tbody tr th {\n",
              "        vertical-align: top;\n",
              "    }\n",
              "\n",
              "    .dataframe thead th {\n",
              "        text-align: right;\n",
              "    }\n",
              "</style>\n",
              "<table border=\"1\" class=\"dataframe\">\n",
              "  <thead>\n",
              "    <tr style=\"text-align: right;\">\n",
              "      <th></th>\n",
              "      <th>categories</th>\n",
              "      <th>name</th>\n",
              "      <th>address</th>\n",
              "    </tr>\n",
              "  </thead>\n",
              "  <tbody>\n",
              "    <tr>\n",
              "      <th>12</th>\n",
              "      <td>Entertainment</td>\n",
              "      <td>Place des Arts</td>\n",
              "      <td>175 rue Sainte-Catherine Ouest</td>\n",
              "    </tr>\n",
              "    <tr>\n",
              "      <th>19</th>\n",
              "      <td>Entertainment</td>\n",
              "      <td>96,9 CKOI</td>\n",
              "      <td>1100-800 rue De La Gauchetière Ouest</td>\n",
              "    </tr>\n",
              "    <tr>\n",
              "      <th>23</th>\n",
              "      <td>Entertainment</td>\n",
              "      <td>La Maison Symphonique de Montréal</td>\n",
              "      <td>1600 rue Saint-Urbain</td>\n",
              "    </tr>\n",
              "  </tbody>\n",
              "</table>\n",
              "</div>"
            ],
            "text/plain": [
              "       categories  ...                               address\n",
              "12  Entertainment  ...        175 rue Sainte-Catherine Ouest\n",
              "19  Entertainment  ...  1100-800 rue De La Gauchetière Ouest\n",
              "23  Entertainment  ...                 1600 rue Saint-Urbain\n",
              "\n",
              "[3 rows x 3 columns]"
            ]
          },
          "metadata": {
            "tags": []
          },
          "execution_count": 67
        }
      ]
    },
    {
      "cell_type": "markdown",
      "metadata": {
        "id": "PCXxLAhnTc6t",
        "colab_type": "text"
      },
      "source": [
        "It is checked that all clusters have consistent values for categories.\n"
      ]
    }
  ]
}